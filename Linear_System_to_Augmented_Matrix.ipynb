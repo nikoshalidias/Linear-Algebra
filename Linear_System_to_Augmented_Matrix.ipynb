{
  "nbformat": 4,
  "nbformat_minor": 0,
  "metadata": {
    "colab": {
      "provenance": []
    },
    "kernelspec": {
      "name": "python3",
      "display_name": "Python 3"
    },
    "language_info": {
      "name": "python"
    }
  },
  "cells": [
    {
      "cell_type": "code",
      "source": [
        "import numpy as np\n",
        "from IPython.display import Math, display\n",
        "import re\n",
        "\n",
        "def parse_linear_system(equations):\n",
        "    \"\"\"\n",
        "    Parse a system of linear equations and return coefficient matrix and constants vector\n",
        "    \"\"\"\n",
        "    # Remove spaces and split by '='\n",
        "    processed_equations = []\n",
        "    for eq in equations:\n",
        "        # Handle cases where there might be spaces around =\n",
        "        parts = eq.replace(' ', '').split('=')\n",
        "        if len(parts) == 2:\n",
        "            left, right = parts\n",
        "            try:\n",
        "                processed_equations.append((left, float(right)))\n",
        "            except ValueError:\n",
        "                print(f\"Warning: Could not parse constant in equation: {eq}\")\n",
        "                processed_equations.append((left, 0.0))\n",
        "        else:\n",
        "            print(f\"Warning: Could not parse equation: {eq}\")\n",
        "\n",
        "    # Extract variables (assuming x, y, z, w, u, v, t, s)\n",
        "    variables = set()\n",
        "    for left, _ in processed_equations:\n",
        "        # Find all variable names (letters)\n",
        "        for char in left:\n",
        "            if char.isalpha():\n",
        "                variables.add(char)\n",
        "\n",
        "    # Sort variables alphabetically\n",
        "    variables = sorted(list(variables))\n",
        "\n",
        "    # Create coefficient matrix\n",
        "    n_equations = len(processed_equations)\n",
        "    n_variables = len(variables)\n",
        "    A = np.zeros((n_equations, n_variables))\n",
        "    b = np.zeros(n_equations)\n",
        "\n",
        "    # Parse each equation\n",
        "    for i, (left, right) in enumerate(processed_equations):\n",
        "        b[i] = right\n",
        "\n",
        "        # Add '+' before negative terms for easier parsing\n",
        "        eq_str = \"\"\n",
        "        if left and left[0] != '-':\n",
        "            eq_str = \"+\"\n",
        "        eq_str += left.replace('-', '+-')\n",
        "\n",
        "        # Split by '+' to get terms\n",
        "        terms = [term for term in eq_str.split('+') if term]\n",
        "\n",
        "        for term in terms:\n",
        "            if not term:\n",
        "                continue\n",
        "\n",
        "            # Handle coefficients\n",
        "            coeff = 1.0\n",
        "            var = None\n",
        "\n",
        "            # Check if term is just a number (constant)\n",
        "            if all(c.isdigit() or c in '.-' for c in term) and not any(c.isalpha() for c in term):\n",
        "                try:\n",
        "                    b[i] -= float(term)  # Move to other side\n",
        "                except ValueError:\n",
        "                    pass\n",
        "                continue\n",
        "\n",
        "            # Extract coefficient and variable\n",
        "            # Find where the variable starts\n",
        "            var_start = -1\n",
        "            for j, char in enumerate(term):\n",
        "                if char.isalpha():\n",
        "                    var_start = j\n",
        "                    var = char\n",
        "                    break\n",
        "\n",
        "            if var_start >= 0:\n",
        "                # Extract coefficient part\n",
        "                coeff_part = term[:var_start] if var_start > 0 else \"\"\n",
        "                if coeff_part == \"\" or coeff_part == \"+\":\n",
        "                    coeff = 1.0\n",
        "                elif coeff_part == \"-\":\n",
        "                    coeff = -1.0\n",
        "                else:\n",
        "                    try:\n",
        "                        coeff = float(coeff_part)\n",
        "                    except ValueError:\n",
        "                        coeff = 1.0\n",
        "\n",
        "                var_index = variables.index(var)\n",
        "                A[i, var_index] += coeff\n",
        "            else:\n",
        "                # Pure constant term\n",
        "                try:\n",
        "                    b[i] -= float(term)\n",
        "                except ValueError:\n",
        "                    pass\n",
        "\n",
        "    return A, b, variables\n",
        "\n",
        "def system_to_augmented_matrix(equations):\n",
        "    \"\"\"\n",
        "    Convert system of equations to augmented matrix and display using MathJax\n",
        "    \"\"\"\n",
        "    # Parse equations\n",
        "    A, b, variables = parse_linear_system(equations)\n",
        "\n",
        "    # Create augmented matrix\n",
        "    augmented = np.column_stack([A, b])\n",
        "\n",
        "    # Display original system\n",
        "    print(\"Original System of Equations:\")\n",
        "    for i, eq in enumerate(equations):\n",
        "        display(Math(f\"\\\\text{{Equation {i+1}:}} \\\\quad {eq}\"))\n",
        "\n",
        "    print(f\"\\nVariables: {variables}\")\n",
        "\n",
        "    # Display augmented matrix in MathJax\n",
        "    print(\"\\nAugmented Matrix:\")\n",
        "\n",
        "    # Build matrix string for MathJax with correct vertical line placement\n",
        "    matrix_str = \"\\\\left(\\\\begin{array}{\"\n",
        "\n",
        "    # Add column specifiers: one for each variable column\n",
        "    matrix_str += \"c\" * len(variables)\n",
        "\n",
        "    # Add separator and column for constants\n",
        "    matrix_str += \"|c\"\n",
        "    matrix_str += \"}\"\n",
        "\n",
        "    # Add matrix rows\n",
        "    for i in range(augmented.shape[0]):\n",
        "        row = []\n",
        "        for j in range(augmented.shape[1]):\n",
        "            # Format numbers nicely\n",
        "            val = augmented[i, j]\n",
        "            if val.is_integer():\n",
        "                row.append(str(int(val)))\n",
        "            else:\n",
        "                # Format to avoid trailing zeros\n",
        "                formatted = f\"{val:.6f}\".rstrip('0').rstrip('.')\n",
        "                if formatted == \"-0\":\n",
        "                    formatted = \"0\"\n",
        "                row.append(formatted if formatted else \"0\")\n",
        "\n",
        "        # Join all elements in the row\n",
        "        matrix_str += \" & \".join(row) + \" \\\\\\\\ \"\n",
        "\n",
        "    matrix_str += \"\\\\end{array}\\\\right)\"\n",
        "\n",
        "    display(Math(matrix_str))\n",
        "\n",
        "    return augmented, variables\n",
        "\n",
        "# Example usage\n",
        "print(\"Linear System to Augmented Matrix Converter\")\n",
        "print(\"=\" * 50)\n",
        "\n",
        "# Example 1: Simple 2x2 system\n",
        "equations1 = [\n",
        "    \"2x + 3y = 7\",\n",
        "    \"x - y = 1\"\n",
        "]\n",
        "\n",
        "print(\"Example 1:\")\n",
        "augmented1, vars1 = system_to_augmented_matrix(equations1)\n",
        "\n",
        "print(\"\\n\" + \"=\"*50 + \"\\n\")\n",
        "\n",
        "# Example 2: 3x3 system\n",
        "equations2 = [\n",
        "    \"x + 2y - z = 3\",\n",
        "    \"2x - y + 3z = 1\",\n",
        "    \"3x + y + 2z = 4\"\n",
        "]\n",
        "\n",
        "print(\"Example 2:\")\n",
        "augmented2, vars2 = system_to_augmented_matrix(equations2)\n",
        "\n",
        "print(\"\\n\" + \"=\"*50 + \"\\n\")\n",
        "\n",
        "# Example 3: System with missing variables\n",
        "equations3 = [\n",
        "    \"x + z = 5\",\n",
        "    \"2y - z = 1\",\n",
        "    \"x + y = 3\"\n",
        "]\n",
        "\n",
        "print(\"Example 3:\")\n",
        "augmented3, vars3 = system_to_augmented_matrix(equations3)\n",
        "\n",
        "# Function to handle custom input\n",
        "def solve_custom_system():\n",
        "    print(\"\\nCustom System:\")\n",
        "    print(\"Enter your system of equations (one per line). Press Enter twice when done.\")\n",
        "    equations = []\n",
        "    while True:\n",
        "        eq = input(\"Enter equation (e.g., '2x + 3y = 7'): \").strip()\n",
        "        if not eq:\n",
        "            break\n",
        "        equations.append(eq)\n",
        "\n",
        "    if equations:\n",
        "        augmented, variables = system_to_augmented_matrix(equations)\n",
        "        return augmented, variables\n",
        "    else:\n",
        "        print(\"No equations entered.\")\n",
        "        return None, None\n",
        "\n",
        "# Uncomment the following lines to input your own system:\n",
        "# print(\"\\n\" + \"=\"*50)\n",
        "# solve_custom_system()"
      ],
      "metadata": {
        "colab": {
          "base_uri": "https://localhost:8080/",
          "height": 804
        },
        "id": "7b1-YeaaoVcj",
        "outputId": "30f03374-b450-491e-8839-4dd65ecdd8c8"
      },
      "execution_count": 7,
      "outputs": [
        {
          "output_type": "stream",
          "name": "stdout",
          "text": [
            "Linear System to Augmented Matrix Converter\n",
            "==================================================\n",
            "Example 1:\n",
            "Original System of Equations:\n"
          ]
        },
        {
          "output_type": "display_data",
          "data": {
            "text/plain": [
              "<IPython.core.display.Math object>"
            ],
            "text/latex": "$\\displaystyle \\text{Equation 1:} \\quad 2x + 3y = 7$"
          },
          "metadata": {}
        },
        {
          "output_type": "display_data",
          "data": {
            "text/plain": [
              "<IPython.core.display.Math object>"
            ],
            "text/latex": "$\\displaystyle \\text{Equation 2:} \\quad x - y = 1$"
          },
          "metadata": {}
        },
        {
          "output_type": "stream",
          "name": "stdout",
          "text": [
            "\n",
            "Variables: ['x', 'y']\n",
            "\n",
            "Augmented Matrix:\n"
          ]
        },
        {
          "output_type": "display_data",
          "data": {
            "text/plain": [
              "<IPython.core.display.Math object>"
            ],
            "text/latex": "$\\displaystyle \\left(\\begin{array}{cc|c}2 & 3 & 7 \\\\ 1 & -1 & 1 \\\\ \\end{array}\\right)$"
          },
          "metadata": {}
        },
        {
          "output_type": "stream",
          "name": "stdout",
          "text": [
            "\n",
            "==================================================\n",
            "\n",
            "Example 2:\n",
            "Original System of Equations:\n"
          ]
        },
        {
          "output_type": "display_data",
          "data": {
            "text/plain": [
              "<IPython.core.display.Math object>"
            ],
            "text/latex": "$\\displaystyle \\text{Equation 1:} \\quad x + 2y - z = 3$"
          },
          "metadata": {}
        },
        {
          "output_type": "display_data",
          "data": {
            "text/plain": [
              "<IPython.core.display.Math object>"
            ],
            "text/latex": "$\\displaystyle \\text{Equation 2:} \\quad 2x - y + 3z = 1$"
          },
          "metadata": {}
        },
        {
          "output_type": "display_data",
          "data": {
            "text/plain": [
              "<IPython.core.display.Math object>"
            ],
            "text/latex": "$\\displaystyle \\text{Equation 3:} \\quad 3x + y + 2z = 4$"
          },
          "metadata": {}
        },
        {
          "output_type": "stream",
          "name": "stdout",
          "text": [
            "\n",
            "Variables: ['x', 'y', 'z']\n",
            "\n",
            "Augmented Matrix:\n"
          ]
        },
        {
          "output_type": "display_data",
          "data": {
            "text/plain": [
              "<IPython.core.display.Math object>"
            ],
            "text/latex": "$\\displaystyle \\left(\\begin{array}{ccc|c}1 & 2 & -1 & 3 \\\\ 2 & -1 & 3 & 1 \\\\ 3 & 1 & 2 & 4 \\\\ \\end{array}\\right)$"
          },
          "metadata": {}
        },
        {
          "output_type": "stream",
          "name": "stdout",
          "text": [
            "\n",
            "==================================================\n",
            "\n",
            "Example 3:\n",
            "Original System of Equations:\n"
          ]
        },
        {
          "output_type": "display_data",
          "data": {
            "text/plain": [
              "<IPython.core.display.Math object>"
            ],
            "text/latex": "$\\displaystyle \\text{Equation 1:} \\quad x + z = 5$"
          },
          "metadata": {}
        },
        {
          "output_type": "display_data",
          "data": {
            "text/plain": [
              "<IPython.core.display.Math object>"
            ],
            "text/latex": "$\\displaystyle \\text{Equation 2:} \\quad 2y - z = 1$"
          },
          "metadata": {}
        },
        {
          "output_type": "display_data",
          "data": {
            "text/plain": [
              "<IPython.core.display.Math object>"
            ],
            "text/latex": "$\\displaystyle \\text{Equation 3:} \\quad x + y = 3$"
          },
          "metadata": {}
        },
        {
          "output_type": "stream",
          "name": "stdout",
          "text": [
            "\n",
            "Variables: ['x', 'y', 'z']\n",
            "\n",
            "Augmented Matrix:\n"
          ]
        },
        {
          "output_type": "display_data",
          "data": {
            "text/plain": [
              "<IPython.core.display.Math object>"
            ],
            "text/latex": "$\\displaystyle \\left(\\begin{array}{ccc|c}1 & 0 & 1 & 5 \\\\ 0 & 2 & -1 & 1 \\\\ 1 & 1 & 0 & 3 \\\\ \\end{array}\\right)$"
          },
          "metadata": {}
        }
      ]
    }
  ]
}