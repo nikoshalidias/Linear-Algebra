{
  "nbformat": 4,
  "nbformat_minor": 5,
  "metadata": {
    "colab": {
      "name": "Chapter_6_Diagonalization_of_Matrices.ipynb",
      "provenance": []
    },
    "kernelspec": {
      "name": "python3",
      "display_name": "Python 3"
    },
    "language_info": {
      "name": "python"
    }
  },
  "cells": [
    {
      "cell_type": "markdown",
      "metadata": {
        "id": "4a59ee61fda1"
      },
      "source": [
        "# Chapter 6 — Diagonalization of Matrices (Colab Companion)\n",
        "\n",
        "This notebook provides **Python helpers and demos** for diagonalization topics:\n",
        "\n",
        "- **Similarity and change of basis:** \\(A \\sim D\\) via \\(A = P D P^{-1}\\)\n",
        "- **Diagonalizability criteria:** distinct eigenvalues; algebraic vs geometric multiplicities\n",
        "- **Diagonalization over \\(\\mathbb{C}\\)** vs over \\(\\mathbb{R}\\) (complex eigenvalues)\n",
        "- **Orthogonal diagonalization of real symmetric matrices** (spectral theorem)\n",
        "- Using diagonalization to compute **powers** \\(A^k\\), **polynomials** \\(p(A)\\), and **matrix exponentials** \\(e^{tA}\\)\n",
        "- Recognizing **defective** (non-diagonalizable) matrices\n",
        "\n",
        "All explanatory comments are in **English** and we rely on **SymPy** for exact linear algebra."
      ]
    },
    {
      "cell_type": "code",
      "metadata": {
        "id": "fb6e11a2239d"
      },
      "execution_count": null,
      "outputs": [],
      "source": [
        "# Setup (SymPy). In Colab SymPy is usually available.\n",
        "# If needed, you can uncomment the next line to install/upgrade:\n",
        "# !pip -q install sympy\n",
        "\n",
        "import sympy as sp\n",
        "\n",
        "sp.init_printing(use_unicode=True)\n",
        "\n",
        "def to_sym(A):\n",
        "    \"\"\"Coerce input to a SymPy Matrix.\"\"\"\n",
        "    if isinstance(A, sp.MatrixBase):\n",
        "        return A\n",
        "    return sp.Matrix(A)"
      ]
    },
    {
      "cell_type": "markdown",
      "metadata": {
        "id": "6fbdbd4843cb"
      },
      "source": [
        "## 1) Similarity and change of basis\n",
        "\n",
        "`A` and `B` are **similar** if `B = P^{-1} A P` for some invertible `P`. If `B` is diagonal, we say **A is diagonalizable**."
      ]
    },
    {
      "cell_type": "code",
      "metadata": {
        "id": "762bca629bd5"
      },
      "execution_count": null,
      "outputs": [],
      "source": [
        "def similarity_transform(A, P):\n",
        "    \"\"\"Return B = P^{-1} A P (requires invertible P).\"\"\"\n",
        "    A, P = to_sym(A), to_sym(P)\n",
        "    if P.det() == 0:\n",
        "        raise ValueError(\"P must be invertible for a similarity transform.\")\n",
        "    return P.inv() * A * P\n",
        "\n",
        "def verify_diagonalization(A, P, D):\n",
        "    \"\"\"Check that A == P*D*P^{-1} and D is diagonal.\"\"\"\n",
        "    A, P, D = to_sym(A), to_sym(P), to_sym(D)\n",
        "    is_diag = D == sp.diag(*D.diagonal())  # quick check\n",
        "    return bool((P*D*P.inv() - A) == sp.zeros(*A.shape) and is_diag)"
      ]
    },
    {
      "cell_type": "markdown",
      "metadata": {
        "id": "ef94dafa78d8"
      },
      "source": [
        "## 2) Diagonalizability criteria and construction\n",
        "\n",
        "A sufficient condition: **distinct eigenvalues** \\(\\Rightarrow\\) diagonalizable (over \\(\\mathbb{C}\\)).  \n",
        "In general, **A is diagonalizable iff the sum of geometric multiplicities equals n**."
      ]
    },
    {
      "cell_type": "code",
      "metadata": {
        "id": "b7162a9a2aac"
      },
      "execution_count": null,
      "outputs": [],
      "source": [
        "def eigen_multiplicities(A):\n",
        "    \"\"\"Return a list of dicts with eigenvalue, algebraic multiplicity, geometric multiplicity.\"\"\"\n",
        "    A = to_sym(A)\n",
        "    n = A.shape[0]\n",
        "    data = []\n",
        "    # SymPy's eigenvals() -> {eigenvalue: algebraic multiplicity}\n",
        "    for lam, am in A.eigenvals().items():\n",
        "        geom_mult = len((A - lam*sp.eye(n)).nullspace())\n",
        "        data.append({\"eigenvalue\": lam, \"alg_mult\": int(am), \"geom_mult\": int(geom_mult)})\n",
        "    return data\n",
        "\n",
        "def has_distinct_eigenvalues(A):\n",
        "    \"\"\"True if all algebraic multiplicities are 1 (over algebraic closure).\"\"\"\n",
        "    A = to_sym(A)\n",
        "    return all(m == 1 for m in A.eigenvals().values())\n",
        "\n",
        "def is_diagonalizable_over_C(A):\n",
        "    \"\"\"Diagonalizable over C iff sum of geometric multiplicities equals n.\"\"\"\n",
        "    A = to_sym(A)\n",
        "    n = A.shape[0]\n",
        "    mults = eigen_multiplicities(A)\n",
        "    return sum(item[\"geom_mult\"] for item in mults) == n\n",
        "\n",
        "def is_diagonalizable_over_R(A):\n",
        "    \"\"\"Attempt a real diagonalization check: all eigenvalues real and sum geom mult == n.\"\"\"\n",
        "    A = to_sym(A)\n",
        "    n = A.shape[0]\n",
        "    evals = A.eigenvals()\n",
        "    # All eigenvalues must be real\n",
        "    for lam in evals.keys():\n",
        "        if not lam.is_real:\n",
        "            return False\n",
        "    # Geometric multiplicities with real eigenvectors\n",
        "    total_geom = 0\n",
        "    for lam, am in evals.items():\n",
        "        geom_mult = len((A - lam*sp.eye(n)).nullspace())\n",
        "        total_geom += geom_mult\n",
        "    return total_geom == n\n",
        "\n",
        "def diagonalize_over_C(A):\n",
        "    \"\"\"Return (P, D) such that A = P*D*P^{-1}, or (None, None) if not diagonalizable over C.\"\"\"\n",
        "    A = to_sym(A)\n",
        "    n = A.shape[0]\n",
        "    cols = []\n",
        "    vals = []\n",
        "    for lam, am in A.eigenvals().items():\n",
        "        basis = (A - lam*sp.eye(n)).nullspace()\n",
        "        for v in basis:\n",
        "            cols.append(v)\n",
        "            vals.append(lam)\n",
        "    if len(cols) != n:\n",
        "        return None, None\n",
        "    P = sp.Matrix.hstack(*cols)\n",
        "    if P.det() == 0:\n",
        "        return None, None\n",
        "    D = sp.diag(*vals)\n",
        "    return P, D"
      ]
    },
    {
      "cell_type": "markdown",
      "metadata": {
        "id": "f435ca75e3a2"
      },
      "source": [
        "## 3) Spectral theorem (real symmetric case)\n",
        "\n",
        "If `A` is **real symmetric** then there exists an **orthogonal** matrix `Q` such that  \n",
        "`A = Q Λ Q^T` with `Λ` diagonal and **real** eigenvalues."
      ]
    },
    {
      "cell_type": "code",
      "metadata": {
        "id": "89e3654f657f"
      },
      "execution_count": null,
      "outputs": [],
      "source": [
        "def is_real_symmetric(A):\n",
        "    A = to_sym(A)\n",
        "    return bool(A.equals(A.T) and all(entry.is_real for entry in A))\n",
        "\n",
        "def spectral_decomposition_symmetric(A):\n",
        "    \"\"\"Return (Q, Λ) with Q orthogonal and Λ diagonal for a real symmetric A.\"\"\"\n",
        "    A = to_sym(A)\n",
        "    if not is_real_symmetric(A):\n",
        "        raise ValueError(\"A must be real symmetric for an orthogonal diagonalization.\")\n",
        "    # SymPy: use eigenvects to collect an orthonormal eigenbasis via Gram-Schmidt on each eigenspace\n",
        "    n = A.shape[0]\n",
        "    eigspaces = []\n",
        "    vals = []\n",
        "    for lam, mult in A.eigenvals().items():\n",
        "        basis = (A - lam*sp.eye(n)).nullspace()\n",
        "        # Gram-Schmidt to orthonormalize basis w.r.t. standard inner product\n",
        "        ortho = sp.GramSchmidt(basis, orthonormal=True)\n",
        "        eigspaces.extend(ortho)\n",
        "        vals.extend([lam] * len(ortho))\n",
        "    Q = sp.Matrix.hstack(*eigspaces)\n",
        "    Λ = sp.diag(*vals)\n",
        "    # Normalize to ensure Q^T Q = I\n",
        "    return Q, Λ"
      ]
    },
    {
      "cell_type": "markdown",
      "metadata": {
        "id": "4d3217197353"
      },
      "source": [
        "## 4) Using diagonalization: powers, polynomials, exponentials\n",
        "\n",
        "If `A = P D P^{-1}`, then:\n",
        "- `A^k = P D^k P^{-1}`\n",
        "- `p(A) = P p(D) P^{-1}` (apply `p` to the diagonal entries)\n",
        "- `e^{tA} = P e^{tD} P^{-1}`"
      ]
    },
    {
      "cell_type": "code",
      "metadata": {
        "id": "6ade1570db66"
      },
      "execution_count": null,
      "outputs": [],
      "source": [
        "def power_via_diagonalization(A, k):\n",
        "    A = to_sym(A)\n",
        "    P, D = diagonalize_over_C(A)\n",
        "    if P is None:\n",
        "        # Fallback to direct power\n",
        "        return A**k\n",
        "    Dk = sp.diag(*[d**k for d in D.diagonal()])\n",
        "    return P * Dk * P.inv()\n",
        "\n",
        "def mat_poly_horner(A, coeffs):\n",
        "    \"\"\"Evaluate p(A) with Horner's method; coeffs in ascending powers [c0, c1, ..., ck].\"\"\"\n",
        "    A = to_sym(A)\n",
        "    n = A.shape[0]\n",
        "    P = sp.zeros(n)\n",
        "    I = sp.eye(n)\n",
        "    ck = coeffs[-1]\n",
        "    P = ck * I\n",
        "    for c in reversed(coeffs[:-1]):\n",
        "        P = A*P + c*I\n",
        "    return P\n",
        "\n",
        "def polynomial_via_diagonalization(A, coeffs):\n",
        "    \"\"\"Compute p(A) via diagonalization if possible; else Horner.\n",
        "    coeffs: [c0, c1, ..., ck] for p(λ) = c0 + c1 λ + ... + ck λ^k\n",
        "    \"\"\"\n",
        "    A = to_sym(A)\n",
        "    P, D = diagonalize_over_C(A)\n",
        "    if P is None:\n",
        "        return mat_poly_horner(A, coeffs)\n",
        "    # Apply p to each diagonal entry\n",
        "    diag_vals = []\n",
        "    for lam in D.diagonal():\n",
        "        val = 0\n",
        "        pow_lam = 1\n",
        "        for c in coeffs:\n",
        "            val += c * pow_lam\n",
        "            pow_lam *= lam\n",
        "        diag_vals.append(sp.simplify(val))\n",
        "    pD = sp.diag(*diag_vals)\n",
        "    return P * pD * P.inv()\n",
        "\n",
        "def exp_via_diagonalization(A, t=1):\n",
        "    A = to_sym(A)\n",
        "    P, D = diagonalize_over_C(A)\n",
        "    if P is None:\n",
        "        # Fallback to SymPy's matrix exponential\n",
        "        return (t*A).exp()\n",
        "    exp_diag = sp.diag(*[sp.exp(t*lam) for lam in D.diagonal()])\n",
        "    return P * exp_diag * P.inv()"
      ]
    },
    {
      "cell_type": "markdown",
      "metadata": {
        "id": "a568f25258cf"
      },
      "source": [
        "---\n",
        "\n",
        "## 5) Quick demos"
      ]
    },
    {
      "cell_type": "code",
      "metadata": {
        "id": "a41d8734452b"
      },
      "execution_count": null,
      "outputs": [],
      "source": [
        "# Demo A: Distinct eigenvalues => diagonalizable over C\n",
        "A = sp.Matrix([[3, 1, 0],\n",
        "               [0, 2, 0],\n",
        "               [0, 0, -1]])\n",
        "print(\"A =\"); sp.pprint(A)\n",
        "print(\"Distinct eigenvalues? \", has_distinct_eigenvalues(A))\n",
        "print(\"Diagonalizable over C? \", is_diagonalizable_over_C(A))\n",
        "P, D = diagonalize_over_C(A)\n",
        "print(\"\\nP =\"); sp.pprint(P)\n",
        "print(\"D =\"); sp.pprint(D)\n",
        "print(\"Verify A = P D P^{-1}? ->\", verify_diagonalization(A, P, D))"
      ]
    },
    {
      "cell_type": "code",
      "metadata": {
        "id": "50a535550e67"
      },
      "execution_count": null,
      "outputs": [],
      "source": [
        "# Demo B: Real symmetric -> orthogonal diagonalization\n",
        "S = sp.Matrix([[2, 1, 0],\n",
        "               [1, 3, 0],\n",
        "               [0, 0, 4]])\n",
        "print(\"S real symmetric? \", is_real_symmetric(S))\n",
        "Q, Lmbda = spectral_decomposition_symmetric(S)\n",
        "print(\"\\nQ orthogonal? ->\", (Q.T*Q == sp.eye(S.shape[0])))\n",
        "print(\"Λ =\"); sp.pprint(Lmbda)\n",
        "print(\"Check S == Q Λ Q^T ? ->\", (Q*Lmbda*Q.T - S) == sp.zeros(*S.shape))"
      ]
    },
    {
      "cell_type": "code",
      "metadata": {
        "id": "af1612e4923d"
      },
      "execution_count": null,
      "outputs": [],
      "source": [
        "# Demo C: Non-diagonalizable (Jordan block)\n",
        "J = sp.Matrix([[1, 1],\n",
        "               [0, 1]])\n",
        "print(\"J diagonalizable over C? \", is_diagonalizable_over_C(J))\n",
        "P, D = diagonalize_over_C(J)\n",
        "print(\"P is None? ->\", P is None)\n",
        "print(\"J^5 via diagonalization fallback:\"); sp.pprint(power_via_diagonalization(J, 5))"
      ]
    },
    {
      "cell_type": "code",
      "metadata": {
        "id": "1c9a4390d9fc"
      },
      "execution_count": null,
      "outputs": [],
      "source": [
        "# Demo D: Using diagonalization for powers, polynomials, exponentials\n",
        "B = sp.Matrix([[0, 1],\n",
        "               [1, 0]])  # eigenvalues ±1\n",
        "print(\"B^10 =\"); sp.pprint(power_via_diagonalization(B, 10))\n",
        "# p(λ) = 2 + 3λ + λ^2\n",
        "print(\"\\np(B) = 2 I + 3 B + B^2:\"); sp.pprint(polynomial_via_diagonalization(B, [2, 3, 1]))\n",
        "print(\"\\nexp(tB) with t=pi/3:\"); sp.pprint(exp_via_diagonalization(B, sp.pi/3))"
      ]
    },
    {
      "cell_type": "markdown",
      "metadata": {
        "id": "200f14d964f6"
      },
      "source": [
        "---\n",
        "\n",
        "### How to use this notebook\n",
        "\n",
        "1. Run the **Setup** cell.\n",
        "2. Use **`eigen_multiplicities`**, **`has_distinct_eigenvalues`**, **`is_diagonalizable_over_C/R`** to test your matrix.\n",
        "3. If diagonalizable, get **`(P, D)`** with **`diagonalize_over_C`** or **`spectral_decomposition_symmetric`** (real symmetric case).\n",
        "4. Compute **`A^k`**, **`p(A)`**, or **`e^{tA}`** via the helper functions in Section 4.\n",
        "5. Use **`similarity_transform`**/**`verify_diagonalization`** to sanity-check your results."
      ]
    }
  ]
}