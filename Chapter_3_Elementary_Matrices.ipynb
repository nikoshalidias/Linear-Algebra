{
  "nbformat": 4,
  "nbformat_minor": 5,
  "metadata": {
    "colab": {
      "name": "Chapter_3_Elementary_Matrices.ipynb",
      "provenance": []
    },
    "kernelspec": {
      "name": "python3",
      "display_name": "Python 3"
    },
    "language_info": {
      "name": "python"
    }
  },
  "cells": [
    {
      "cell_type": "markdown",
      "metadata": {
        "id": "e94a72affb0a"
      },
      "source": [
        "# Chapter 3 — Elementary Matrices (Colab Companion)\n",
        "\n",
        "This notebook provides **Python helpers and demos** for core topics of Chapter 3:\n",
        "\n",
        "- The three types of **elementary matrices** (row scaling `D_i(α)`, row swap `P_ij`, row addition `E_ij(α)`)\n",
        "- Implementing **row operations** via **left-multiplication** and **column operations** via **right-multiplication**\n",
        "- **Inverses** of elementary matrices and their **determinants**\n",
        "- **Gaussian elimination** using a running product of elementary matrices, yielding `R = E · A`\n",
        "- **Factoring an invertible matrix as a product of elementary matrices**\n",
        "- Bonus: Using the same machinery to compute **A^{-1}** (Gauss–Jordan)\n",
        "\n",
        "All code uses **exact arithmetic** (rationals) via SymPy where possible."
      ]
    },
    {
      "cell_type": "code",
      "metadata": {
        "id": "c63f27b488de"
      },
      "execution_count": null,
      "outputs": [],
      "source": [
        "# Setup (NumPy/SymPy). In Colab these are typically available.\n",
        "# If needed, you can uncomment the next line to install/upgrade:\n",
        "# !pip -q install numpy sympy\n",
        "\n",
        "import numpy as np\n",
        "import sympy as sp\n",
        "\n",
        "sp.init_printing(use_unicode=True)\n",
        "\n",
        "def to_M(A):\n",
        "    \"\"\"Coerce to a SymPy Matrix with rational entries when reasonable.\"\"\"\n",
        "    if isinstance(A, sp.MatrixBase):\n",
        "        M = A.copy()\n",
        "    else:\n",
        "        M = sp.Matrix(A)\n",
        "    def _coerce(x):\n",
        "        if isinstance(x, (int, np.integer)):\n",
        "            return sp.Rational(int(x))\n",
        "        try:\n",
        "            return sp.nsimplify(x)\n",
        "        except Exception:\n",
        "            return x\n",
        "    return M.applyfunc(_coerce)"
      ]
    },
    {
      "cell_type": "markdown",
      "metadata": {
        "id": "cf438bbcd94f"
      },
      "source": [
        "## 1) Elementary matrices — constructors\n",
        "\n",
        "We use **1-based indexing** for rows/columns to match the math notation."
      ]
    },
    {
      "cell_type": "code",
      "metadata": {
        "id": "e82ff8fa5dcf"
      },
      "execution_count": null,
      "outputs": [],
      "source": [
        "def D_i(n, i, a):\n",
        "    \"\"\"Diagonal scaling matrix: scales row i by a (1-based i).\"\"\"\n",
        "    I = sp.eye(n)\n",
        "    I[i-1, i-1] = to_M([[a]])[0,0]\n",
        "    return I\n",
        "\n",
        "def P_ij(n, i, j):\n",
        "    \"\"\"Permutation matrix swapping rows i and j (1-based).\"\"\"\n",
        "    if i == j:\n",
        "        return sp.eye(n)\n",
        "    P = sp.eye(n)\n",
        "    P.row_swap(i-1, j-1)\n",
        "    return P\n",
        "\n",
        "def E_ij(n, i, j, a):\n",
        "    \"\"\"Elementary matrix adding a * row j to row i (1-based, i != j).\"\"\"\n",
        "    if i == j:\n",
        "        raise ValueError(\"E_ij requires i != j\")\n",
        "    E = sp.eye(n)\n",
        "    E[i-1, j-1] = to_M([[a]])[0,0]\n",
        "    return E"
      ]
    },
    {
      "cell_type": "markdown",
      "metadata": {
        "id": "b6187bfeb62a"
      },
      "source": [
        "## 2) Row/column operations via multiplication\n",
        "\n",
        "- **Left-multiply** by an elementary matrix to perform the corresponding **row** operation.\n",
        "- **Right-multiply** by an elementary matrix to perform the corresponding **column** operation."
      ]
    },
    {
      "cell_type": "code",
      "metadata": {
        "id": "7070364167db"
      },
      "execution_count": null,
      "outputs": [],
      "source": [
        "def left_apply(E, A):\n",
        "    return to_M(E) * to_M(A)\n",
        "\n",
        "def right_apply(A, E):\n",
        "    return to_M(A) * to_M(E)\n",
        "\n",
        "# Demo\n",
        "if __name__ == \"__main__\":\n",
        "    A = sp.Matrix([[1,2,3],[4,5,6],[7,8,9]])\n",
        "    print(\"A=\\n\"); sp.pprint(A)\n",
        "    print(\"\\nSwap R1 <-> R3:\")\n",
        "    sp.pprint(left_apply(P_ij(3,1,3), A))\n",
        "    print(\"\\nR2 := R2 + 3*R1:\")\n",
        "    sp.pprint(left_apply(E_ij(3,2,1,3), A))\n",
        "    print(\"\\nScale column 3 by 2 (right-multiply by D_3(2)):\")\n",
        "    sp.pprint(right_apply(A, D_i(3,3,2)))"
      ]
    },
    {
      "cell_type": "markdown",
      "metadata": {
        "id": "458976fd0320"
      },
      "source": [
        "## 3) Determinants and inverses of elementary matrices\n",
        "\n",
        "Key facts:\n",
        "- `det(D_i(α)) = α`\n",
        "- `det(P_ij) = -1` when `i != j`\n",
        "- `det(E_ij(α)) = 1`\n",
        "- Each elementary matrix is **invertible** and its inverse is of the same type."
      ]
    },
    {
      "cell_type": "code",
      "metadata": {
        "id": "7249219a7db9"
      },
      "execution_count": null,
      "outputs": [],
      "source": [
        "def det_elementary(M):\n",
        "    return sp.Matrix(M).det()\n",
        "\n",
        "def inv_elementary(M):\n",
        "    return sp.Matrix(M).inv()\n",
        "\n",
        "# Quick self-test\n",
        "if __name__ == \"__main__\":\n",
        "    n = 4\n",
        "    D = D_i(n, 2, 7)\n",
        "    P = P_ij(n, 1, 4)\n",
        "    E = E_ij(n, 3, 2, -5)\n",
        "    print(\"det(D_i(7)):\", det_elementary(D))\n",
        "    print(\"det(P_14):\", det_elementary(P))\n",
        "    print(\"det(E_32(-5)):\", det_elementary(E))\n",
        "    # Check inverses exist and are same type\n",
        "    sp.pprint(inv_elementary(D))\n",
        "    sp.pprint(inv_elementary(P))\n",
        "    sp.pprint(inv_elementary(E))"
      ]
    },
    {
      "cell_type": "markdown",
      "metadata": {
        "id": "2186a4529adf"
      },
      "source": [
        "## 4) Gaussian elimination with accumulated elementary matrices\n",
        "\n",
        "We compute `R = E · A` where `E = Ek ··· E2 E1` is a product of elementary matrices.\n",
        "Returned `E` is explicit (not just a single matrix product)."
      ]
    },
    {
      "cell_type": "code",
      "metadata": {
        "id": "350c2e798814"
      },
      "execution_count": null,
      "outputs": [],
      "source": [
        "def row_reduce_with_Es(A, pivoting=True):\n",
        "    \"\"\"\n",
        "    Row-reduce A using elementary matrices.\n",
        "    Returns (RREF, E_list, E_product) with RREF = E_product * A.\n",
        "    \"\"\"\n",
        "    M = to_M(A)\n",
        "    m, n = M.shape\n",
        "    i = j = 0\n",
        "    E_list = []\n",
        "    def apply_and_store(E):\n",
        "        nonlocal M\n",
        "        E = to_M(E)\n",
        "        M = E * M\n",
        "        E_list.append(E)\n",
        "    while i < m and j < n:\n",
        "        # Choose pivot row\n",
        "        pivot_row = None\n",
        "        if pivoting:\n",
        "            # argmax |M[r,j]| for r in [i..m-1]\n",
        "            absvals = [abs(M[r,j]) for r in range(i, m)]\n",
        "            if any(val != 0 for val in absvals):\n",
        "                r_rel = max(range(len(absvals)), key=lambda k: absvals[k])\n",
        "                pivot_row = i + r_rel\n",
        "        else:\n",
        "            for r in range(i, m):\n",
        "                if M[r,j] != 0:\n",
        "                    pivot_row = r; break\n",
        "        if pivot_row is None:\n",
        "            j += 1\n",
        "            continue\n",
        "        # Swap\n",
        "        if pivot_row != i:\n",
        "            E = P_ij(m, i+1, pivot_row+1)\n",
        "            apply_and_store(E)\n",
        "        # Scale to 1\n",
        "        piv = M[i,j]\n",
        "        if piv != 1:\n",
        "            E = D_i(m, i+1, sp.Rational(1,1)/piv)\n",
        "            apply_and_store(E)\n",
        "        # Eliminate others in column j\n",
        "        for r in range(m):\n",
        "            if r != i and M[r,j] != 0:\n",
        "                a = M[r,j]\n",
        "                E = E_ij(m, r+1, i+1, -a)\n",
        "                apply_and_store(E)\n",
        "        i += 1; j += 1\n",
        "    # Product E = Ek ... E1\n",
        "    E_prod = sp.eye(m)\n",
        "    for E in reversed(E_list):\n",
        "        E_prod = E * E_prod\n",
        "    return M, E_list, E_prod\n",
        "\n",
        "# Demo\n",
        "if __name__ == \"__main__\":\n",
        "    A = sp.Matrix([[2,1,-1],[ -3,-1,2 ], [ -2,1,2 ]])\n",
        "    R, Es, Eprod = row_reduce_with_Es(A, pivoting=True)\n",
        "    print(\"RREF=\\n\"); sp.pprint(R)\n",
        "    print(\"E·A equals R? \", (Eprod*A == R))\n",
        "    print(\"Number of elementary steps:\", len(Es))"
      ]
    },
    {
      "cell_type": "markdown",
      "metadata": {
        "id": "2ac015a42f2a"
      },
      "source": [
        "## 5) Factor an invertible matrix as a product of elementary matrices\n",
        "\n",
        "If `A` is invertible, the sequence of elimination steps that turns `A` into `I` yields\n",
        "`E · A = I`, hence `A = E^{-1}` and **`A` is a product of elementary matrices**.\n",
        "We also provide a Gauss–Jordan-based inverse."
      ]
    },
    {
      "cell_type": "code",
      "metadata": {
        "id": "d6f6926c4c70"
      },
      "execution_count": null,
      "outputs": [],
      "source": [
        "def factor_into_elementaries(A):\n",
        "    \"\"\"Return a list [F1, F2, ..., Fk] of elementary matrices whose product equals A.\"\"\"\n",
        "    A = to_M(A)\n",
        "    m, n = A.shape\n",
        "    if m != n:\n",
        "        raise ValueError(\"A must be square to be invertible.\")\n",
        "    R, Es, Eprod = row_reduce_with_Es(A, pivoting=True)\n",
        "    if R != sp.eye(m):\n",
        "        raise ValueError(\"A is not invertible (failed to reach identity).\")\n",
        "    # Eprod * A = I  =>  A = (Eprod)^{-1}\n",
        "    # But Eprod is itself a product of elementaries; invert by inverting each in reverse order.\n",
        "    inv_factors = [e.inv() for e in Es]  # inverse of each step\n",
        "    # Since R = Ek...E1 A = I, we have A = (Ek...E1)^{-1} = E1^{-1} ... Ek^{-1}\n",
        "    factors = list(reversed(inv_factors))\n",
        "    return factors\n",
        "\n",
        "def inverse_via_elementaries(A):\n",
        "    \"\"\"Return A^{-1} using an augmented [A | I] and row operations (Gauss–Jordan).\"\"\"\n",
        "    A = to_M(A)\n",
        "    n = A.shape[0]\n",
        "    Aug = A.row_join(sp.eye(n))\n",
        "    R, Es, Eprod = row_reduce_with_Es(Aug, pivoting=True)\n",
        "    left = R[:, :n]\n",
        "    right = R[:, n:]\n",
        "    if left != sp.eye(n):\n",
        "        raise ValueError(\"A is singular; left block not identity.\")\n",
        "    return right\n",
        "\n",
        "# Demo\n",
        "if __name__ == \"__main__\":\n",
        "    A = sp.Matrix([[1,2,1],[0,1,3],[2,0,1]])\n",
        "    Fs = factor_into_elementaries(A)\n",
        "    # Verify product(Fs) == A\n",
        "    P = sp.eye(A.shape[0])\n",
        "    for F in Fs:\n",
        "        P = F * P\n",
        "    print(\"Product equals A? \", P.equals(A))\n",
        "    print(\"A^{-1} via elementaries:\\n\"); sp.pprint(inverse_via_elementaries(A))"
      ]
    },
    {
      "cell_type": "markdown",
      "metadata": {
        "id": "cc1c0cef9572"
      },
      "source": [
        "## 6) Column operations (right-multiplication)\n",
        "\n",
        "`A · P_ij` swaps columns `i` and `j`, `A · D_i(α)` scales column `i`, and `A · E_ij(α)` adds α times column `j` to column `i`."
      ]
    },
    {
      "cell_type": "code",
      "metadata": {
        "id": "9904f27d2513"
      },
      "execution_count": null,
      "outputs": [],
      "source": [
        "if __name__ == \"__main__\":\n",
        "    A = sp.Matrix([[1,2,3],[4,5,6],[7,8,9]])\n",
        "    print(\"Swap columns 1 and 3:\")\n",
        "    sp.pprint(right_apply(A, P_ij(3,1,3)))\n",
        "    print(\"\\nC2 := C2 + 4*C1:\")\n",
        "    sp.pprint(right_apply(A, E_ij(3,2,1,4)))\n",
        "    print(\"\\nScale column 1 by -2:\")\n",
        "    sp.pprint(right_apply(A, D_i(3,1,-2)))"
      ]
    },
    {
      "cell_type": "markdown",
      "metadata": {
        "id": "6db5d9e5c726"
      },
      "source": [
        "---\n",
        "\n",
        "### How to use this notebook\n",
        "\n",
        "1. Run the **Setup** cell.\n",
        "2. Use **`D_i`**, **`P_ij`**, **`E_ij`** to build elementary matrices.\n",
        "3. Apply them via **left_apply** (rows) or **right_apply** (columns).\n",
        "4. Explore **determinants/inverses** with `det_elementary` and `inv_elementary`.\n",
        "5. Use **`row_reduce_with_Es`** to see elimination as a product of elementary matrices.\n",
        "6. If `A` is invertible, get a **factorization** with `factor_into_elementaries(A)` and the **inverse** via `inverse_via_elementaries(A)`."
      ]
    }
  ]
}