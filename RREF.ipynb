{
  "nbformat": 4,
  "nbformat_minor": 0,
  "metadata": {
    "colab": {
      "provenance": []
    },
    "kernelspec": {
      "name": "python3",
      "display_name": "Python 3"
    },
    "language_info": {
      "name": "python"
    }
  },
  "cells": [
    {
      "cell_type": "code",
      "source": [
        "from IPython.display import display, HTML, Math\n",
        "import sympy as sp\n",
        "\n",
        "def gauss_jordan_steps(A):\n",
        "    \"\"\"Υπολογίζει όλα τα ενδιάμεσα βήματα της απαλοιφής Gauss–Jordan.\"\"\"\n",
        "    A = sp.Matrix(A).copy()\n",
        "    m, n = A.shape\n",
        "    steps = [(A.copy(), \"Initial matrix\")]\n",
        "    row = 0\n",
        "\n",
        "    for col in range(n):\n",
        "        # pivot search\n",
        "        pivot = None\n",
        "        for r in range(row, m):\n",
        "            if A[r, col] != 0:\n",
        "                pivot = r\n",
        "                break\n",
        "        if pivot is None:\n",
        "            continue\n",
        "\n",
        "        # swap if needed\n",
        "        if pivot != row:\n",
        "            A.row_swap(pivot, row)\n",
        "            steps.append((A.copy(), f\"Swap R{pivot+1} ↔ R{row+1}\"))\n",
        "\n",
        "        # scale pivot row\n",
        "        if A[row, col] != 1:\n",
        "            factor = A[row, col]\n",
        "            A.row_op(row, lambda v, _: v/factor)\n",
        "            steps.append((A.copy(), f\"R{row+1} ← R{row+1}/{factor}\"))\n",
        "\n",
        "        # eliminate other rows\n",
        "        for r in range(m):\n",
        "            if r != row and A[r, col] != 0:\n",
        "                factor = A[r, col]\n",
        "                A.row_op(r, lambda v, j: v - factor*A[row, j])\n",
        "                steps.append((A.copy(), f\"R{r+1} ← R{r+1} - ({factor})·R{row+1}\"))\n",
        "\n",
        "        row += 1\n",
        "        if row == m:\n",
        "            break\n",
        "\n",
        "    return steps\n",
        "\n",
        "def visualize_gauss(matrix_list):\n",
        "    steps = gauss_jordan_steps(matrix_list)\n",
        "\n",
        "    # HTML πλαίσιο\n",
        "    html_header = \"\"\"\n",
        "    <div style=\"\n",
        "        border:2px solid #1E90FF;\n",
        "        border-radius:10px;\n",
        "        background:#F0F8FF;\n",
        "        padding:15px;\n",
        "        margin:10px 0;\">\n",
        "    <b style=\"color:#1E90FF; font-size:110%;\">Visualization of Gaussian Elimination</b>\n",
        "    <p style=\"font-size:90%\">Successive elementary row operations produce row-echelon form and finally RREF.</p>\n",
        "    \"\"\"\n",
        "    html_footer = \"</div>\"\n",
        "\n",
        "    display(HTML(html_header))\n",
        "\n",
        "    # Δείχνουμε σε μια αλυσίδα με βέλη\n",
        "    expr = sp.latex(steps[0][0])\n",
        "    for mat, op in steps[1:]:\n",
        "        expr += r\"\\xrightarrow[\\;\" + op + r\"\\;]{}\" + sp.latex(mat)\n",
        "\n",
        "    display(Math(expr))\n",
        "\n",
        "    display(HTML(html_footer))\n",
        "\n",
        "    return steps[-1][0]\n",
        "\n",
        "# ---- Παράδειγμα ----\n",
        "A = [\n",
        "    [9, 2],\n",
        "    [2, 8]\n",
        "]\n",
        "\n",
        "visualize_gauss(A)\n"
      ],
      "metadata": {
        "colab": {
          "base_uri": "https://localhost:8080/",
          "height": 199
        },
        "id": "VMt50Msbf5FV",
        "outputId": "48383dfc-8fe3-4eab-fc57-c95573be607d"
      },
      "execution_count": 6,
      "outputs": [
        {
          "output_type": "display_data",
          "data": {
            "text/plain": [
              "<IPython.core.display.HTML object>"
            ],
            "text/html": [
              "\n",
              "    <div style=\"\n",
              "        border:2px solid #1E90FF;\n",
              "        border-radius:10px;\n",
              "        background:#F0F8FF;\n",
              "        padding:15px;\n",
              "        margin:10px 0;\">\n",
              "    <b style=\"color:#1E90FF; font-size:110%;\">Visualization of Gaussian Elimination</b>\n",
              "    <p style=\"font-size:90%\">Successive elementary row operations produce row-echelon form and finally RREF.</p>\n",
              "    "
            ]
          },
          "metadata": {}
        },
        {
          "output_type": "display_data",
          "data": {
            "text/plain": [
              "<IPython.core.display.Math object>"
            ],
            "text/latex": "$\\displaystyle \\left[\\begin{matrix}9 & 2\\\\2 & 8\\end{matrix}\\right]\\xrightarrow[\\;R1 ← R1/9\\;]{}\\left[\\begin{matrix}1 & \\frac{2}{9}\\\\2 & 8\\end{matrix}\\right]\\xrightarrow[\\;R2 ← R2 - (2)·R1\\;]{}\\left[\\begin{matrix}1 & \\frac{2}{9}\\\\0 & \\frac{68}{9}\\end{matrix}\\right]\\xrightarrow[\\;R2 ← R2/68/9\\;]{}\\left[\\begin{matrix}1 & \\frac{2}{9}\\\\0 & 1\\end{matrix}\\right]\\xrightarrow[\\;R1 ← R1 - (2/9)·R2\\;]{}\\left[\\begin{matrix}1 & 0\\\\0 & 1\\end{matrix}\\right]$"
          },
          "metadata": {}
        },
        {
          "output_type": "display_data",
          "data": {
            "text/plain": [
              "<IPython.core.display.HTML object>"
            ],
            "text/html": [
              "</div>"
            ]
          },
          "metadata": {}
        },
        {
          "output_type": "execute_result",
          "data": {
            "text/plain": [
              "Matrix([\n",
              "[1, 0],\n",
              "[0, 1]])"
            ],
            "text/latex": "$\\displaystyle \\left[\\begin{matrix}1 & 0\\\\0 & 1\\end{matrix}\\right]$"
          },
          "metadata": {},
          "execution_count": 6
        }
      ]
    }
  ]
}