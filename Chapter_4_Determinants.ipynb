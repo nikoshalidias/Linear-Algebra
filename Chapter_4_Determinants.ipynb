{
  "nbformat": 4,
  "nbformat_minor": 5,
  "metadata": {
    "colab": {
      "name": "Chapter_4_Determinants.ipynb",
      "provenance": []
    },
    "kernelspec": {
      "name": "python3",
      "display_name": "Python 3"
    },
    "language_info": {
      "name": "python"
    }
  },
  "cells": [
    {
      "cell_type": "markdown",
      "metadata": {
        "id": "c005b78cf38b"
      },
      "source": [
        "# Chapter 4 — Determinants (Colab Companion)\n",
        "\n",
        "This notebook provides **Python helpers and demos** for core Chapter 4 topics on determinants:\n",
        "\n",
        "- Definitions: **Leibniz (permutation) formula** and **Laplace (cofactor) expansion**\n",
        "- **Minors**, **cofactors**, **adjugate**, and the formula `A^{-1} = adj(A)/det(A)` when invertible\n",
        "- Effect of **elementary row operations** on `det(A)`\n",
        "- Properties: `det(AB) = det(A) det(B)`, `det(A^T) = det(A)`, determinant of **triangular** matrices\n",
        "- Determinant via **LU decomposition** (with permutations) and via **product of eigenvalues**\n",
        "- **Cramer's rule**\n",
        "- **Geometric meaning**: area/volume as `|det|` (2D/3D visual demos)\n",
        "\n",
        "All exact symbolic computations use **SymPy**; small educational re-implementations are included for transparency."
      ]
    },
    {
      "cell_type": "code",
      "metadata": {
        "id": "fa17dd73eb76"
      },
      "execution_count": null,
      "outputs": [],
      "source": [
        "# Setup (NumPy/SymPy/itertools/matplotlib). In Colab these are typically available.\n",
        "# If needed, you can uncomment the next line to install/upgrade:\n",
        "# !pip -q install numpy sympy matplotlib\n",
        "\n",
        "import numpy as np\n",
        "import sympy as sp\n",
        "from itertools import permutations\n",
        "import math\n",
        "\n",
        "import matplotlib.pyplot as plt\n",
        "from mpl_toolkits.mplot3d import Axes3D  # noqa: F401\n",
        "\n",
        "np.set_printoptions(suppress=True, linewidth=120)\n",
        "sp.init_printing(use_unicode=True)\n",
        "\n",
        "def to_M(A):\n",
        "    \"\"\"Coerce to a SymPy Matrix with rational entries when feasible.\"\"\"\n",
        "    if isinstance(A, sp.MatrixBase):\n",
        "        M = A.copy()\n",
        "    else:\n",
        "        M = sp.Matrix(A)\n",
        "    def _coerce(x):\n",
        "        if isinstance(x, (int, np.integer)):\n",
        "            return sp.Rational(int(x))\n",
        "        try:\n",
        "            return sp.nsimplify(x)\n",
        "        except Exception:\n",
        "            return x\n",
        "    return M.applyfunc(_coerce)"
      ]
    },
    {
      "cell_type": "markdown",
      "metadata": {
        "id": "7ad51b693b45"
      },
      "source": [
        "## 1) Determinant via Leibniz (permutation) formula\n",
        "\n",
        "For small `n`, we can compute `det(A)` directly from permutations to see what SymPy does internally.\n",
        "This is **O(n!)**, so it's just for demonstration."
      ]
    },
    {
      "cell_type": "code",
      "metadata": {
        "id": "d1e7154a99ef"
      },
      "execution_count": null,
      "outputs": [],
      "source": [
        "def det_leibniz(A):\n",
        "    \"\"\"Compute det(A) by the Leibniz formula (slow; for small n only).\"\"\"\n",
        "    M = to_M(A)\n",
        "    n = M.shape[0]\n",
        "    assert n == M.shape[1], \"Matrix must be square.\"\n",
        "    s = sp.Integer(0)\n",
        "    for p in permutations(range(n)):\n",
        "        # sign of permutation p\n",
        "        sign = sp.Integer(1)\n",
        "        # compute parity by counting inversions\n",
        "        inv = 0\n",
        "        for i in range(n):\n",
        "            for j in range(i+1, n):\n",
        "                if p[i] > p[j]:\n",
        "                    inv += 1\n",
        "        if inv % 2 == 1:\n",
        "            sign = -sign\n",
        "        # product of entries along permutation\n",
        "        prod = sp.Integer(1)\n",
        "        for i in range(n):\n",
        "            prod *= M[i, p[i]]\n",
        "        s += sign * prod\n",
        "    return sp.simplify(s)\n",
        "\n",
        "# Demo\n",
        "if __name__ == \"__main__\":\n",
        "    A = sp.Matrix([[1,2,3],[4,0,6],[7,8,9]])\n",
        "    print(\"det by Leibniz:\", det_leibniz(A))\n",
        "    print(\"det by SymPy:  \", A.det())"
      ]
    },
    {
      "cell_type": "markdown",
      "metadata": {
        "id": "b1f3ced06201"
      },
      "source": [
        "## 2) Minors, cofactors, and Laplace (cofactor) expansion\n",
        "\n",
        "We implement minors/cofactors and expansion along a chosen row/column with a step-by-step log."
      ]
    },
    {
      "cell_type": "code",
      "metadata": {
        "id": "7237a5f85b7a"
      },
      "execution_count": null,
      "outputs": [],
      "source": [
        "def minor(M, i, j):\n",
        "    \"\"\"Minor M_ij: determinant of M with row i and column j removed (0-based indices).\"\"\"\n",
        "    M = to_M(M)\n",
        "    return M.minor_submatrix(i, j).det()\n",
        "\n",
        "def cofactor(M, i, j):\n",
        "    \"\"\"Cofactor C_ij = (-1)^{i+j} * minor(M, i, j).\"\"\"\n",
        "    return (-1)**(i+j) * minor(M, i, j)\n",
        "\n",
        "def laplace_expand_row(M, i):\n",
        "    \"\"\"Laplace expansion along row i (0-based). Returns (det, steps).\"\"\"\n",
        "    M = to_M(M)\n",
        "    assert M.shape[0] == M.shape[1], \"Square matrix required.\"\n",
        "    n = M.shape[0]\n",
        "    steps = []\n",
        "    total = sp.Integer(0)\n",
        "    for j in range(n):\n",
        "        aij = M[i, j]\n",
        "        Cij = cofactor(M, i, j)\n",
        "        term = aij * Cij\n",
        "        steps.append((i, j, aij, Cij, term))\n",
        "        total += term\n",
        "    return sp.simplify(total), steps\n",
        "\n",
        "def laplace_expand_col(M, j):\n",
        "    \"\"\"Laplace expansion along column j (0-based). Returns (det, steps).\"\"\"\n",
        "    M = to_M(M)\n",
        "    assert M.shape[0] == M.shape[1], \"Square matrix required.\"\n",
        "    n = M.shape[0]\n",
        "    steps = []\n",
        "    total = sp.Integer(0)\n",
        "    for i in range(n):\n",
        "        aij = M[i, j]\n",
        "        Cij = cofactor(M, i, j)\n",
        "        term = aij * Cij\n",
        "        steps.append((i, j, aij, Cij, term))\n",
        "        total += term\n",
        "    return sp.simplify(total), steps\n",
        "\n",
        "# Demo\n",
        "if __name__ == \"__main__\":\n",
        "    M = sp.Matrix([[2,1,3],[0,1,-1],[4,2,2]])\n",
        "    d_row2, steps = laplace_expand_row(M, 1)\n",
        "    d_col1, _ = laplace_expand_col(M, 0)\n",
        "    print(\"Laplace along row 2:\", d_row2)\n",
        "    print(\"Laplace along col 1:\", d_col1)\n",
        "    print(\"SymPy det:\", M.det())"
      ]
    },
    {
      "cell_type": "markdown",
      "metadata": {
        "id": "78b84cb6dc3e"
      },
      "source": [
        "## 3) Cofactor matrix, adjugate, and inverse formula\n",
        "\n",
        "`adj(A) = C^T`, where `C` is the cofactor matrix. If `det(A) ≠ 0` then `A^{-1} = adj(A)/det(A)`.\n",
        "We also verify `A · adj(A) = det(A) · I`."
      ]
    },
    {
      "cell_type": "code",
      "metadata": {
        "id": "075898e3061f"
      },
      "execution_count": null,
      "outputs": [],
      "source": [
        "def cofactor_matrix(M):\n",
        "    M = to_M(M)\n",
        "    n = M.shape[0]\n",
        "    assert n == M.shape[1], \"Square matrix required.\"\n",
        "    C = sp.zeros(n, n)\n",
        "    for i in range(n):\n",
        "        for j in range(n):\n",
        "            C[i, j] = cofactor(M, i, j)\n",
        "    return C\n",
        "\n",
        "def adjugate(M):\n",
        "    return cofactor_matrix(M).T\n",
        "\n",
        "def inverse_via_adjugate(M):\n",
        "    M = to_M(M)\n",
        "    d = M.det()\n",
        "    if d == 0:\n",
        "        raise ValueError(\"Matrix is singular; adjugate formula requires det != 0.\")\n",
        "    return adjugate(M) / d\n",
        "\n",
        "# Demo\n",
        "if __name__ == \"__main__\":\n",
        "    A = sp.Matrix([[1,2,1],[0,1,3],[2,0,1]])\n",
        "    adjA = adjugate(A)\n",
        "    print(\"A * adj(A) == det(A)*I ? \", (A*adjA == A.det()*sp.eye(A.shape[0])))\n",
        "    print(\"A^{-1} via adjugate == SymPy inv? \", inverse_via_adjugate(A).equals(A.inv()))"
      ]
    },
    {
      "cell_type": "markdown",
      "metadata": {
        "id": "2f0ec6a86ea3"
      },
      "source": [
        "## 4) Row operations and key determinant properties\n",
        "\n",
        "- Swap two rows → `det` changes sign.  \n",
        "- Multiply a row by `k` → `det` scales by `k`.  \n",
        "- Add a multiple of one row to another → `det` unchanged.  \n",
        "- `det(AB) = det(A) det(B)`, `det(A^T) = det(A)`.  \n",
        "- Triangular matrices: `det` is the product of diagonal entries."
      ]
    },
    {
      "cell_type": "code",
      "metadata": {
        "id": "503ad0ebdb30"
      },
      "execution_count": null,
      "outputs": [],
      "source": [
        "def det_after_row_swap(A, i, j):\n",
        "    A = to_M(A)\n",
        "    B = A.copy(); B.row_swap(i, j)\n",
        "    return A.det(), B.det()\n",
        "\n",
        "def det_after_row_scale(A, i, k):\n",
        "    A = to_M(A)\n",
        "    B = A.copy(); B[i,:] *= to_M([[k]])[0,0]\n",
        "    return A.det(), B.det()\n",
        "\n",
        "def det_after_row_add(A, i, j, k):\n",
        "    A = to_M(A)\n",
        "    B = A.copy(); B[i,:] += to_M([[k]])[0,0] * B[j,:]\n",
        "    return A.det(), B.det()\n",
        "\n",
        "def check_multiplicativity(A, B):\n",
        "    A, B = to_M(A), to_M(B)\n",
        "    return (A*B).det() == A.det() * B.det()\n",
        "\n",
        "def check_transpose_invariance(A):\n",
        "    A = to_M(A)\n",
        "    return A.T.det() == A.det()\n",
        "\n",
        "def det_triangular(diag_entries):\n",
        "    D = sp.diag(*diag_entries)\n",
        "    return D.det(), D\n",
        "\n",
        "# Demo\n",
        "if __name__ == \"__main__\":\n",
        "    A = sp.Matrix([[2,1,0],[0,3,4],[5,0,1]])\n",
        "    print(\"Swap rows 0 and 2: det signs:\", det_after_row_swap(A,0,2))\n",
        "    print(\"Scale row 1 by -2:\", det_after_row_scale(A,1,-2))\n",
        "    print(\"R2 := R2 + 3 R1:\", det_after_row_add(A,1,0,3))\n",
        "    B = sp.Matrix([[1,2,3],[0,4,5],[1,0,6]])\n",
        "    print(\"det(AB) = det(A)det(B)?\", check_multiplicativity(A,B))\n",
        "    print(\"det(A^T) = det(A)?\", check_transpose_invariance(A))\n",
        "    dD, D = det_triangular([2,3,5]); print(\"Triangular det (should be 2*3*5):\", dD)"
      ]
    },
    {
      "cell_type": "markdown",
      "metadata": {
        "id": "6034209bcb46"
      },
      "source": [
        "## 5) Determinant via LU decomposition (with permutations)\n",
        "\n",
        "For `PA = LU` with permutation matrix `P`, we have `det(A) = det(P) * det(L) * det(U)`; since `det(L)=1` for unit-lower, this becomes\n",
        "`det(A) = sgn(P) * (product of diag(U))`."
      ]
    },
    {
      "cell_type": "code",
      "metadata": {
        "id": "8ba43a2d21f9"
      },
      "execution_count": null,
      "outputs": [],
      "source": [
        "def det_via_LU(A):\n",
        "    A = to_M(A)\n",
        "    L, U, perm = A.LUdecomposition()\n",
        "    # SymPy returns a permutation list 'perm' such that row swaps were applied.\n",
        "    # Compute sign from number of transpositions in the permutation.\n",
        "    # 'perm' gives where each row moved; estimate parity by comparing to identity.\n",
        "    sign = 1\n",
        "    visited = [False]*len(perm)\n",
        "    for i in range(len(perm)):\n",
        "        if not visited[i]:\n",
        "            cycle_len = 0\n",
        "            j = i\n",
        "            while not visited[j]:\n",
        "                visited[j] = True\n",
        "                j = perm[j]\n",
        "                cycle_len += 1\n",
        "            if cycle_len > 0:\n",
        "                sign *= (-1)**(cycle_len-1)\n",
        "    detU = sp.prod(U[i,i] for i in range(U.shape[0]))\n",
        "    return sp.simplify(sign * detU), L, U, perm\n",
        "\n",
        "# Demo\n",
        "if __name__ == \"__main__\":\n",
        "    A = sp.Matrix([[1,2,1],[0,1,3],[2,0,1]])\n",
        "    dLU, L, U, p = det_via_LU(A)\n",
        "    print(\"det via LU:\", dLU, \" | SymPy det:\", A.det(), \" | perm:\", p)"
      ]
    },
    {
      "cell_type": "markdown",
      "metadata": {
        "id": "5474a4d520e9"
      },
      "source": [
        "## 6) Cramer's rule\n",
        "\n",
        "If `det(A) ≠ 0`, the solution of `A x = b` has components `x_i = det(A_i)/det(A)`, where `A_i` is `A` with column `i` replaced by `b`."
      ]
    },
    {
      "cell_type": "code",
      "metadata": {
        "id": "318a0b96ba2a"
      },
      "execution_count": null,
      "outputs": [],
      "source": [
        "def cramers_rule(A, b):\n",
        "    A = to_M(A); b = to_M(b)\n",
        "    assert A.shape[0] == A.shape[1] == b.shape[0], \"Shapes must be compatible and A square.\"\n",
        "    dA = A.det()\n",
        "    if dA == 0:\n",
        "        raise ValueError(\"Cramer's rule requires det(A) != 0.\")\n",
        "    n = A.shape[0]\n",
        "    x = sp.zeros(n, 1)\n",
        "    for i in range(n):\n",
        "        Ai = A.copy()\n",
        "        Ai[:, i] = b\n",
        "        x[i, 0] = Ai.det() / dA\n",
        "    return x\n",
        "\n",
        "# Demo\n",
        "if __name__ == \"__main__\":\n",
        "    A = sp.Matrix([[2, -1, 0],[ -1, 2, -1],[0, -1, 2]])\n",
        "    b = sp.Matrix([1, 0, 1])\n",
        "    x_cramer = cramers_rule(A, b)\n",
        "    x_sym = A.LUsolve(b)\n",
        "    print(\"Cramer's == LUsolve ? \", x_cramer.equals(x_sym))"
      ]
    },
    {
      "cell_type": "markdown",
      "metadata": {
        "id": "f9769cfb94fa"
      },
      "source": [
        "## 7) Geometric meaning: area/volume = |det|\n",
        "\n",
        "- In 2D, the area of the parallelogram spanned by columns of `A` equals `|det(A)|`.\n",
        "- In 3D, the volume of the parallelepiped equals `|det(A)|`.\n",
        "Below we compute the values and show simple plots."
      ]
    },
    {
      "cell_type": "code",
      "metadata": {
        "id": "01cbddfcb489"
      },
      "execution_count": null,
      "outputs": [],
      "source": [
        "def area_2d(A):\n",
        "    A = np.asarray(A, dtype=float)\n",
        "    assert A.shape == (2,2)\n",
        "    return abs(np.linalg.det(A))\n",
        "\n",
        "def volume_3d(A):\n",
        "    A = np.asarray(A, dtype=float)\n",
        "    assert A.shape == (3,3)\n",
        "    return abs(np.linalg.det(A))\n",
        "\n",
        "def plot_parallelogram(A):\n",
        "    A = np.asarray(A, dtype=float)\n",
        "    assert A.shape == (2,2)\n",
        "    e1 = np.array([0,0]); a = A[:,0]; b = A[:,1]\n",
        "    verts = np.array([e1, a, a+b, b, e1])\n",
        "    plt.figure()\n",
        "    plt.plot(verts[:,0], verts[:,1], marker='o')\n",
        "    plt.axis('equal')\n",
        "    plt.title(\"Parallelogram spanned by columns of A\")\n",
        "\n",
        "def plot_parallelepiped(A):\n",
        "    A = np.asarray(A, dtype=float)\n",
        "    assert A.shape == (3,3)\n",
        "    a, b, c = A[:,0], A[:,1], A[:,2]\n",
        "    base = np.array([[0,0,0], a, a+b, b, [0,0,0]])\n",
        "    top  = base + c\n",
        "    fig = plt.figure()\n",
        "    ax = fig.add_subplot(111, projection='3d')\n",
        "    ax.plot(base[:,0], base[:,1], base[:,2])\n",
        "    ax.plot(top[:,0], top[:,1], top[:,2])\n",
        "    # vertical edges\n",
        "    for p in base:\n",
        "        q = p + c\n",
        "        ax.plot([p[0], q[0]], [p[1], q[1]], [p[2], q[2]])\n",
        "    ax.set_title(\"Parallelepiped spanned by columns of A\")\n",
        "\n",
        "# Demo\n",
        "if __name__ == \"__main__\":\n",
        "    A2 = np.array([[2,1],[1,3]], float)\n",
        "    A3 = np.array([[1,0,2],[0,2,1],[1,1,1]], float)\n",
        "    print(\"Area 2D |det|:\", area_2d(A2))\n",
        "    print(\"Vol 3D  |det|:\", volume_3d(A3))\n",
        "    # Uncomment to visualize in Colab:\n",
        "    # plot_parallelogram(A2)\n",
        "    # plot_parallelepiped(A3)"
      ]
    },
    {
      "cell_type": "markdown",
      "metadata": {
        "id": "c3becaee336e"
      },
      "source": [
        "## 8) Determinant and eigenvalues\n",
        "\n",
        "For a square matrix over \\(\\mathbb{C}\\), the determinant equals the product of eigenvalues (counted with algebraic multiplicity).\n",
        "We also check that the constant term of the characteristic polynomial equals \\((-1)^n \\det(A)\\)."
      ]
    },
    {
      "cell_type": "code",
      "metadata": {
        "id": "0204ff4ec58e"
      },
      "execution_count": null,
      "outputs": [],
      "source": [
        "def eigenvalues_product_equals_det(A):\n",
        "    A = to_M(A)\n",
        "    eigs = list(A.eigenvals().keys())  # distinct eigenvalues (SymPy dict), multiplicity in values\n",
        "    # Reconstruct product with multiplicities\n",
        "    prod = sp.Integer(1)\n",
        "    for val, mult in A.eigenvals().items():\n",
        "        prod *= val**mult\n",
        "    return sp.simplify(prod), A.det()\n",
        "\n",
        "def charpoly_constant_det_relation(A):\n",
        "    A = to_M(A)\n",
        "    x = sp.symbols('x')\n",
        "    p = A.charpoly(x).as_expr()\n",
        "    n = A.shape[0]\n",
        "    const_term = sp.expand(p.subs(x, 0))\n",
        "    return sp.simplify(const_term), (-1)**n * A.det()\n",
        "\n",
        "# Demo\n",
        "if __name__ == \"__main__\":\n",
        "    A = sp.Matrix([[0,1,0],[0,0,1],[-1,-1,-1]])\n",
        "    prod, d = eigenvalues_product_equals_det(A)\n",
        "    print(\"∏ eigenvalues == det(A)? \", sp.simplify(prod - d) == 0)\n",
        "    c0, target = charpoly_constant_det_relation(A)\n",
        "    print(\"charpoly const term == (-1)^n det(A)? \", sp.simplify(c0 - target) == 0)"
      ]
    },
    {
      "cell_type": "markdown",
      "metadata": {
        "id": "3f105da2152a"
      },
      "source": [
        "---\n",
        "\n",
        "### How to use this notebook\n",
        "\n",
        "1. Run the **Setup** cell.\n",
        "2. Compare **`det_leibniz`** with `Matrix.det()` on small matrices.\n",
        "3. Use **`laplace_expand_row/col`** to see cofactor expansion steps.\n",
        "4. Compute **adjugate/inverse** via cofactors using **`adjugate`** / **`inverse_via_adjugate`**.\n",
        "5. Explore **row-operation effects** and multiplicativity.\n",
        "6. Get det via **LU** using **`det_via_LU`**; compare with `A.det()`.\n",
        "7. Solve small systems via **Cramer's rule** (exact arithmetic).\n",
        "8. Visualize **area/volume** and check eigenvalue products."
      ]
    }
  ]
}