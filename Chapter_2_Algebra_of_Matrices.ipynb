{
  "nbformat": 4,
  "nbformat_minor": 5,
  "metadata": {
    "colab": {
      "provenance": []
    },
    "kernelspec": {
      "name": "python3",
      "display_name": "Python 3"
    },
    "language_info": {
      "name": "python"
    }
  },
  "cells": [
    {
      "cell_type": "markdown",
      "metadata": {
        "id": "7a38d7553f06"
      },
      "source": [
        "# Chapter 2 — Algebra of Matrices (Colab Companion)\n",
        "\n",
        "This notebook provides **Python helpers and demos** for core matrix-algebra topics:\n",
        "\n",
        "- Matrix addition, scalar multiplication, and **matrix product**\n",
        "- **Conformability** rules and common pitfalls\n",
        "- **Transpose** rules; **symmetric** and **skew-symmetric** matrices\n",
        "- **Inverse** matrices, uniqueness, and the identity (when it exists)\n",
        "- **Orthogonal** matrices: `A.T @ A = I`\n",
        "- **Powers** of a matrix and **polynomials in a matrix** \\(Horner evaluation; `p(A)` commutes with `A`\\)\n",
        "- **Noncommutativity** (typically `AB != BA`) and **zero divisors** (nonzero `A,B` with `AB = 0`)\n",
        "\n",
        "> Most checks are performed numerically with NumPy; for exact arithmetic and proofs we also include SymPy."
      ],
      "id": "7a38d7553f06"
    },
    {
      "cell_type": "code",
      "metadata": {
        "id": "cc15e2af7894"
      },
      "execution_count": 1,
      "outputs": [],
      "source": [
        "# Setup (NumPy/SymPy). In Colab these are typically available.\n",
        "# If needed, you can uncomment the next line to install/upgrade:\n",
        "# !pip -q install numpy sympy\n",
        "\n",
        "import numpy as np\n",
        "import sympy as sp\n",
        "\n",
        "np.set_printoptions(suppress=True, linewidth=120)\n",
        "sp.init_printing(use_unicode=True)"
      ],
      "id": "cc15e2af7894"
    },
    {
      "cell_type": "markdown",
      "metadata": {
        "id": "74040b1c33d5"
      },
      "source": [
        "## 1) Shapes & conformability\n",
        "\n",
        "Helpers to check whether a product `AB` is defined and to perform safe multiplication with clear errors."
      ],
      "id": "74040b1c33d5"
    },
    {
      "cell_type": "code",
      "metadata": {
        "id": "a9950a3a62d2",
        "colab": {
          "base_uri": "https://localhost:8080/"
        },
        "outputId": "fb8eb8c4-6c9c-4a9d-97b3-8c2fd3b0c906"
      },
      "execution_count": 2,
      "outputs": [
        {
          "output_type": "stream",
          "name": "stdout",
          "text": [
            "is_conformable(A,B)? True\n",
            "is_conformable(B,C)? True\n",
            "Shapes OK -> (A@B)@(C)? True\n"
          ]
        }
      ],
      "source": [
        "def is_conformable(A, B):\n",
        "    \"\"\"Return True iff the product A @ B is defined.\"\"\"\n",
        "    return A.shape[1] == B.shape[0]\n",
        "\n",
        "def mmul(A, B):\n",
        "    \"\"\"Matrix-multiply with a helpful error if shapes are incompatible.\"\"\"\n",
        "    if not is_conformable(A, B):\n",
        "        raise ValueError(f\"Not conformable: A is {A.shape}, B is {B.shape} (need A.shape[1] == B.shape[0])\")\n",
        "    return A @ B\n",
        "\n",
        "# Demo\n",
        "if __name__ == \"__main__\":\n",
        "    A = np.ones((2,3))\n",
        "    B = np.ones((3,4))\n",
        "    C = np.ones((4,2))\n",
        "    print(\"is_conformable(A,B)?\", is_conformable(A,B))\n",
        "    print(\"is_conformable(B,C)?\", is_conformable(B,C))\n",
        "    print(\"Shapes OK -> (A@B)@(C)?\", is_conformable(A@B, C))"
      ],
      "id": "a9950a3a62d2"
    },
    {
      "cell_type": "markdown",
      "metadata": {
        "id": "9c90151ade7b"
      },
      "source": [
        "## 2) Algebraic properties: quick spot checks\n",
        "\n",
        "We numerically verify associativity of multiplication and distributivity over addition on random integer matrices (where shapes allow)."
      ],
      "id": "9c90151ade7b"
    },
    {
      "cell_type": "code",
      "metadata": {
        "id": "0844e343b0d6",
        "colab": {
          "base_uri": "https://localhost:8080/"
        },
        "outputId": "52639e57-3271-4b59-b7cc-8c7fa49849b0"
      },
      "execution_count": 5,
      "outputs": [
        {
          "output_type": "stream",
          "name": "stdout",
          "text": [
            "Associativity holds?  True\n",
            "Distributivity holds?  True\n"
          ]
        }
      ],
      "source": [
        "rng = np.random.default_rng(0)\n",
        "\n",
        "def rand_int_matrix(m, n, low=-3, high=4):\n",
        "    return rng.integers(low, high, size=(m,n))\n",
        "\n",
        "def check_associativity(m=3, k=4, n=2, p=5, trials=5):\n",
        "    \"\"\"Check (AB)C == A(BC) for random A∈R^{m×k}, B∈R^{k×n}, C∈R^{n×p}.\"\"\"\n",
        "    ok = True\n",
        "    for _ in range(trials):\n",
        "        A, B, C = rand_int_matrix(m,k), rand_int_matrix(k,n), rand_int_matrix(n,p)\n",
        "        left  = (A @ B) @ C\n",
        "        right = A @ (B @ C)\n",
        "        if not np.allclose(left, right):\n",
        "            ok = False; break\n",
        "    return ok\n",
        "\n",
        "def check_distributivity(m=3, k=4, n=2, trials=5):\n",
        "    \"\"\"Check A(B+C) == AB + AC and (A+B)C == AC + BC.\"\"\"\n",
        "    ok_left = ok_right = True\n",
        "    for _ in range(trials):\n",
        "        # Check A(B+C) = AB + AC; A: (m,k), B: (k,n), C: (k,n)\n",
        "        A_left = rand_int_matrix(m,k)\n",
        "        B_left = rand_int_matrix(k,n)\n",
        "        C_left = rand_int_matrix(k,n)\n",
        "        ok_left  &= np.allclose(A_left @ (B_left + C_left), A_left @ B_left + A_left @ C_left)\n",
        "\n",
        "        # Check (A+B)C = AC + BC; A: (m,k), B: (m,k), C: (k,n)\n",
        "        A_right = rand_int_matrix(m,k)\n",
        "        B_right = rand_int_matrix(m,k)\n",
        "        C_right = rand_int_matrix(k,n)\n",
        "        ok_right &= np.allclose((A_right + B_right) @ C_right, A_right @ C_right + B_right @ C_right)\n",
        "\n",
        "    return ok_left and ok_right\n",
        "\n",
        "if __name__ == \"__main__\":\n",
        "    print(\"Associativity holds? \", check_associativity())\n",
        "    print(\"Distributivity holds? \", check_distributivity())"
      ],
      "id": "0844e343b0d6"
    },
    {
      "cell_type": "markdown",
      "metadata": {
        "id": "449ff1f8aa24"
      },
      "source": [
        "## 3) Noncommutativity and zero divisors\n",
        "\n",
        "`AB = BA` rarely holds unless under special structure. Also, nonzero matrices can multiply to the zero matrix."
      ],
      "id": "449ff1f8aa24"
    },
    {
      "cell_type": "code",
      "metadata": {
        "id": "e08f9260a61c",
        "colab": {
          "base_uri": "https://localhost:8080/"
        },
        "outputId": "58d028d8-765f-4338-87e5-88c0a76ee2fb"
      },
      "execution_count": 8,
      "outputs": [
        {
          "output_type": "stream",
          "name": "stdout",
          "text": [
            "Noncommuting example:\n",
            "A=\n",
            "[[0 1]\n",
            " [0 0]]\n",
            "B=\n",
            "[[0 0]\n",
            " [1 0]]\n",
            "A@B=\n",
            "[[1 0]\n",
            " [0 0]]\n",
            "B@A=\n",
            "[[0 0]\n",
            " [0 1]]\n",
            "\n",
            "Zero divisors example (A,B ≠ 0 but A@B = 0):\n",
            "A=\n",
            "[[1 0]\n",
            " [0 0]]\n",
            "B=\n",
            "[[0 0]\n",
            " [0 1]]\n",
            "A@B=\n",
            "[[0 0]\n",
            " [0 0]]\n"
          ]
        }
      ],
      "source": [
        "def noncommuting_example():\n",
        "    A = np.array([[0,1],[0,0]])\n",
        "    B = np.array([[0,0],[1,0]])\n",
        "    return A, B, A @ B, B @ A\n",
        "\n",
        "def zero_divisors_example():\n",
        "    A = np.array([[1,0],[0,0]])\n",
        "    B = np.array([[0,0],[0,1]])\n",
        "    return A, B, A @ B  # equals 0 though A,B are nonzero\n",
        "\n",
        "if __name__ == \"__main__\":\n",
        "    A, B, AB, BA = noncommuting_example()\n",
        "    print(f\"Noncommuting example:\")\n",
        "    print(f\"A=\\n{A}\")\n",
        "    print(f\"B=\\n{B}\")\n",
        "    print(f\"A@B=\\n{AB}\")\n",
        "    print(f\"B@A=\\n{BA}\")\n",
        "    A, B, AB = zero_divisors_example()\n",
        "    print(f\"\\nZero divisors example (A,B ≠ 0 but A@B = 0):\")\n",
        "    print(f\"A=\\n{A}\")\n",
        "    print(f\"B=\\n{B}\")\n",
        "    print(f\"A@B=\\n{AB}\")"
      ],
      "id": "e08f9260a61c"
    },
    {
      "cell_type": "markdown",
      "metadata": {
        "id": "52f8b372915b"
      },
      "source": [
        "## 4) Transpose rules; symmetric & skew-symmetric matrices\n",
        "\n",
        "We verify `(AB)^T = B^T A^T`, `(kA)^T = k A^T`, and classify symmetric (`A.T == A`) vs skew-symmetric (`A.T == -A`)."
      ],
      "id": "52f8b372915b"
    },
    {
      "cell_type": "code",
      "metadata": {
        "id": "28c309c654cc",
        "colab": {
          "base_uri": "https://localhost:8080/"
        },
        "outputId": "cb05bd49-e73b-41a3-88f0-12db3a4bbd17"
      },
      "execution_count": 9,
      "outputs": [
        {
          "output_type": "stream",
          "name": "stdout",
          "text": [
            "(AB)^T = B^T A^T ?  True\n",
            "(kA)^T = k A^T ?    True\n",
            "S symmetric?  True\n",
            "K skew-symmetric?  True\n"
          ]
        }
      ],
      "source": [
        "def transpose_rules_demo():\n",
        "    A = rand_int_matrix(3,4)\n",
        "    B = rand_int_matrix(4,2)\n",
        "    k = 5\n",
        "    rule1 = np.allclose((A @ B).T, B.T @ A.T)\n",
        "    rule2 = np.allclose((k*A).T, k*A.T)\n",
        "    return rule1, rule2\n",
        "\n",
        "def is_symmetric(A, tol=0.0):\n",
        "    return np.allclose(A.T, A, atol=tol)\n",
        "\n",
        "def is_skew_symmetric(A, tol=0.0):\n",
        "    return np.allclose(A.T, -A, atol=tol)\n",
        "\n",
        "if __name__ == \"__main__\":\n",
        "    r1, r2 = transpose_rules_demo()\n",
        "    print(\"(AB)^T = B^T A^T ? \", r1)\n",
        "    print(\"(kA)^T = k A^T ?   \", r2)\n",
        "    S = np.array([[2,1],[1,3]])\n",
        "    K = np.array([[0,2],[-2,0]])\n",
        "    print(\"S symmetric? \", is_symmetric(S))\n",
        "    print(\"K skew-symmetric? \", is_skew_symmetric(K))"
      ],
      "id": "28c309c654cc"
    },
    {
      "cell_type": "markdown",
      "metadata": {
        "id": "9dea4cb1b77f"
      },
      "source": [
        "## 5) Inverses (when they exist)\n",
        "\n",
        "We test uniqueness, product rule `(AB)^{-1} = B^{-1} A^{-1}`, and basic identities. We use SymPy for exact checks when possible."
      ],
      "id": "9dea4cb1b77f"
    },
    {
      "cell_type": "code",
      "metadata": {
        "id": "80eacbb83e45",
        "colab": {
          "base_uri": "https://localhost:8080/"
        },
        "outputId": "5c6c0ded-addd-4f17-ead2-e8dce3774f0e"
      },
      "execution_count": 10,
      "outputs": [
        {
          "output_type": "stream",
          "name": "stdout",
          "text": [
            "(AB)^{-1} = B^{-1}A^{-1} ?  True\n"
          ]
        }
      ],
      "source": [
        "def invertible_sp(A):\n",
        "    \"\"\"Return SymPy inverse if invertible, else None.\"\"\"\n",
        "    M = sp.Matrix(A)\n",
        "    if M.det() != 0:\n",
        "        return np.array(M.inv(), dtype=float)\n",
        "    return None\n",
        "\n",
        "def inverse_product_rule_demo():\n",
        "    A = rand_int_matrix(3,3, low=-3, high=3)\n",
        "    B = rand_int_matrix(3,3, low=-3, high=3)\n",
        "    # Make sure they are invertible by adding identity if necessary\n",
        "    MA = sp.Matrix(A); MB = sp.Matrix(B)\n",
        "    if MA.det() == 0: A = A + np.eye(3, dtype=int)\n",
        "    if MB.det() == 0: B = B + np.eye(3, dtype=int)\n",
        "    invA = np.array(sp.Matrix(A).inv(), dtype=float)\n",
        "    invB = np.array(sp.Matrix(B).inv(), dtype=float)\n",
        "    left  = np.array(sp.Matrix(A) * sp.Matrix(B), dtype=float)\n",
        "    right = invB @ invA\n",
        "    return np.allclose(np.linalg.inv(left), right)\n",
        "\n",
        "if __name__ == \"__main__\":\n",
        "    print(\"(AB)^{-1} = B^{-1}A^{-1} ? \", inverse_product_rule_demo())"
      ],
      "id": "80eacbb83e45"
    },
    {
      "cell_type": "markdown",
      "metadata": {
        "id": "e50f8fc31735"
      },
      "source": [
        "## 6) Orthogonal matrices\n",
        "\n",
        "`A` is orthogonal iff `A.T @ A = I`. We generate examples using 2D rotations and via QR factorization."
      ],
      "id": "e50f8fc31735"
    },
    {
      "cell_type": "code",
      "metadata": {
        "id": "383b58bc9743",
        "colab": {
          "base_uri": "https://localhost:8080/"
        },
        "outputId": "6cb96d8b-0174-4b46-a7c6-43db93c1bd23"
      },
      "execution_count": 11,
      "outputs": [
        {
          "output_type": "stream",
          "name": "stdout",
          "text": [
            "Rotation orthogonal?  True\n",
            "Random Q orthogonal?  True\n"
          ]
        }
      ],
      "source": [
        "def rotation2d(theta):\n",
        "    c, s = np.cos(theta), np.sin(theta)\n",
        "    return np.array([[c, -s],[s, c]])\n",
        "\n",
        "def is_orthogonal(A, tol=1e-10):\n",
        "    I = np.eye(A.shape[0])\n",
        "    return np.allclose(A.T @ A, I, atol=tol) and np.allclose(A @ A.T, I, atol=tol)\n",
        "\n",
        "def random_orthogonal(n, rng=np.random.default_rng(1)):\n",
        "    Q, _ = np.linalg.qr(rng.standard_normal((n,n)))\n",
        "    # Ensure det(Q) = +1 (optional): flip one column if det negative\n",
        "    if np.linalg.det(Q) < 0:\n",
        "        Q[:,0] = -Q[:,0]\n",
        "    return Q\n",
        "\n",
        "if __name__ == \"__main__\":\n",
        "    R = rotation2d(np.pi/7)\n",
        "    print(\"Rotation orthogonal? \", is_orthogonal(R))\n",
        "    Q = random_orthogonal(4)\n",
        "    print(\"Random Q orthogonal? \", is_orthogonal(Q))"
      ],
      "id": "383b58bc9743"
    },
    {
      "cell_type": "markdown",
      "metadata": {
        "id": "f6b4e62d3c91"
      },
      "source": [
        "## 7) Matrix powers and polynomials p(A)\n",
        "\n",
        "We implement Horner's method to evaluate `p(A) = c0 I + c1 A + ... + ck A^k` efficiently, and verify that `p(A)` **commutes** with `A`."
      ],
      "id": "f6b4e62d3c91"
    },
    {
      "cell_type": "code",
      "metadata": {
        "id": "a693cf918bc6",
        "colab": {
          "base_uri": "https://localhost:8080/"
        },
        "outputId": "dd6ab2e8-c355-48f6-f681-8296e8679a15"
      },
      "execution_count": 12,
      "outputs": [
        {
          "output_type": "stream",
          "name": "stdout",
          "text": [
            "p(A) commutes with A?  True\n"
          ]
        }
      ],
      "source": [
        "def mat_poly(A, coeffs):\n",
        "    \"\"\"Evaluate p(A) with Horner's rule.\n",
        "    coeffs = [c0, c1, ..., ck] (ascending powers).\n",
        "    \"\"\"\n",
        "    n = A.shape[0]\n",
        "    P = np.zeros_like(A, dtype=float)\n",
        "    I = np.eye(n)\n",
        "    # Horner from highest to lowest: (((ck)A + ck-1)A + ... )A + c0\n",
        "    # Implemented as: P = ck*I; for i in reversed(range(k)): P = A@P + ci*I\n",
        "    ck = coeffs[-1]\n",
        "    P = ck * I\n",
        "    for c in reversed(coeffs[:-1]):\n",
        "        P = A @ P + c * I\n",
        "    return P\n",
        "\n",
        "def commutes_with_A(A, P):\n",
        "    return np.allclose(A @ P, P @ A)\n",
        "\n",
        "if __name__ == \"__main__\":\n",
        "    A = np.array([[0,1],[0,0]], dtype=float)  # nilpotent Jordan block\n",
        "    coeffs = [1, 0, 2]  # p(A) = I + 2 A^2\n",
        "    P = mat_poly(A, coeffs)\n",
        "    print(\"p(A) commutes with A? \", commutes_with_A(A, P))"
      ],
      "id": "a693cf918bc6"
    },
    {
      "cell_type": "markdown",
      "metadata": {
        "id": "6418d94d80b5"
      },
      "source": [
        "## 8) (Bonus) Block matrices: product & transpose\n",
        "\n",
        "A small helper to multiply conformable 2×2 block matrices and to verify `(AB)^T = B^T A^T` blockwise."
      ],
      "id": "6418d94d80b5"
    },
    {
      "cell_type": "code",
      "metadata": {
        "id": "859622412072",
        "colab": {
          "base_uri": "https://localhost:8080/"
        },
        "outputId": "2c4d8046-f76b-433c-c404-9b2d9fd09524"
      },
      "execution_count": 13,
      "outputs": [
        {
          "output_type": "stream",
          "name": "stdout",
          "text": [
            "Block product matches dense?  True\n"
          ]
        }
      ],
      "source": [
        "def blocks_2x2(A, B, C, D):\n",
        "    \"\"\"Pack 4 blocks into a 2x2 block matrix.\"\"\"\n",
        "    top = np.hstack((A, B))\n",
        "    bot = np.hstack((C, D))\n",
        "    return np.vstack((top, bot))\n",
        "\n",
        "def block_multiply(X11, X12, X21, X22, Y11, Y12, Y21, Y22):\n",
        "    \"\"\"Multiply two 2x2 block matrices (assuming inner shapes match).\"\"\"\n",
        "    Z11 = X11 @ Y11 + X12 @ Y21\n",
        "    Z12 = X11 @ Y12 + X12 @ Y22\n",
        "    Z21 = X21 @ Y11 + X22 @ Y21\n",
        "    Z22 = X21 @ Y12 + X22 @ Y22\n",
        "    return Z11, Z12, Z21, Z22\n",
        "\n",
        "if __name__ == \"__main__\":\n",
        "    A,B,C,D = [rand_int_matrix(2,2) for _ in range(4)]\n",
        "    E,F,G,H = [rand_int_matrix(2,2) for _ in range(4)]\n",
        "    Z = block_multiply(A,B,C,D, E,F,G,H)\n",
        "    # Check shape of assembled product against dense multiplication\n",
        "    X = blocks_2x2(A,B,C,D); Y = blocks_2x2(E,F,G,H)\n",
        "    Z_full = blocks_2x2(*Z)\n",
        "    print(\"Block product matches dense? \", np.allclose(Z_full, X @ Y))"
      ],
      "id": "859622412072"
    },
    {
      "cell_type": "markdown",
      "metadata": {
        "id": "c6391e9ec9b0"
      },
      "source": [
        "---\n",
        "\n",
        "### How to use this notebook\n",
        "\n",
        "1. Run the **Setup** cell.\n",
        "2. Use **`is_conformable`** and **`mmul`** to validate products.\n",
        "3. Try **`check_associativity`** and **`check_distributivity`** for quick property checks.\n",
        "4. Explore **noncommutativity** and **zero divisors** via the provided examples.\n",
        "5. Verify **transpose rules** and classify **symmetric/skew-symmetric** matrices.\n",
        "6. Test **inverse** identities with SymPy exact arithmetic.\n",
        "7. Build **orthogonal** matrices (`rotation2d`, `random_orthogonal`) and verify `A.T @ A = I`.\n",
        "8. Evaluate **polynomials in a matrix** using **`mat_poly`** and confirm `p(A)` commutes with `A`.\n",
        "9. (Optional) Use **block** helpers to experiment with 2×2 block algebra."
      ],
      "id": "c6391e9ec9b0"
    }
  ]
}