{
  "nbformat": 4,
  "nbformat_minor": 5,
  "metadata": {
    "colab": {
      "name": "Chapter_5_Eigenvalues_Eigenvectors.ipynb",
      "provenance": []
    },
    "kernelspec": {
      "name": "python3",
      "display_name": "Python 3"
    },
    "language_info": {
      "name": "python"
    }
  },
  "cells": [
    {
      "cell_type": "markdown",
      "metadata": {
        "id": "1089574c83d0"
      },
      "source": [
        "# Chapter 5 — Eigenvalues and Eigenvectors (Colab Companion)\n",
        "\n",
        "This notebook provides **Python helpers and demos** for Chapter 5 topics:\n",
        "- **Definitions & computation:** characteristic polynomial, eigenvalues, eigenvectors\n",
        "- **Properties:** trace / determinant relations, triangular case, eigenvalues of powers and inverses\n",
        "- **Algebraic vs geometric multiplicity; diagonalizability checks**\n",
        "- **Leverrier–Faddeev method** for the characteristic polynomial\n",
        "- **Strict diagonal dominance (SDD)** and nonsingularity (via Gershgorin)\n",
        "- Clean **NumPy** demos plus **SymPy** for exact/structural checks\n",
        "\n",
        "> All explanatory comments are in **English** to align with your request."
      ]
    },
    {
      "cell_type": "code",
      "metadata": {
        "id": "58d6f18e0d24"
      },
      "execution_count": null,
      "outputs": [],
      "source": [
        "# Setup: SymPy (symbolic) and NumPy (numeric). In Colab these are available by default.\n",
        "# If needed, you can uncomment the next line to install/upgrade:\n",
        "# !pip -q install sympy numpy matplotlib\n",
        "\n",
        "import numpy as np\n",
        "import sympy as sp\n",
        "import math\n",
        "\n",
        "import matplotlib.pyplot as plt\n",
        "from matplotlib.patches import Circle\n",
        "\n",
        "sp.init_printing(use_unicode=True)\n",
        "\n",
        "def to_sym(A):\n",
        "    \"\"\"Coerce to a SymPy Matrix.\"\"\"\n",
        "    if isinstance(A, sp.MatrixBase):\n",
        "        return A\n",
        "    return sp.Matrix(A)\n",
        "\n",
        "def is_square(A):\n",
        "    A = to_sym(A)\n",
        "    return A.shape[0] == A.shape[1]"
      ]
    },
    {
      "cell_type": "markdown",
      "metadata": {
        "id": "7190d4c6ccd9"
      },
      "source": [
        "## 1) Characteristic polynomial, eigenvalues, eigenvectors\n",
        "We offer both **numeric** (NumPy) and **symbolic** (SymPy) paths."
      ]
    },
    {
      "cell_type": "code",
      "metadata": {
        "id": "71004e1afbd1"
      },
      "execution_count": null,
      "outputs": [],
      "source": [
        "def charpoly_sym(A):\n",
        "    \"\"\"Characteristic polynomial of A as a SymPy Poly in λ.\"\"\"\n",
        "    A = to_sym(A)\n",
        "    lam = sp.symbols('λ')\n",
        "    return A.charpoly(lam).as_poly()\n",
        "\n",
        "def eig_numpy(A):\n",
        "    \"\"\"Return (eigvals, eigvecs) from NumPy (possibly complex).\"\"\"\n",
        "    A = np.array(A, dtype=float)\n",
        "    vals, vecs = np.linalg.eig(A)\n",
        "    return vals, vecs\n",
        "\n",
        "def eig_sympy(A):\n",
        "    \"\"\"Return eigenvalues (with algebraic multiplicity) and eigenvectors (sympy).\"\"\"\n",
        "    A = to_sym(A)\n",
        "    # eigenvects() returns tuples (eigenvalue, multiplicity, [basis vectors])\n",
        "    return A.eigenvects()"
      ]
    },
    {
      "cell_type": "markdown",
      "metadata": {
        "id": "09b1a2253f6a"
      },
      "source": [
        "## 2) Core properties to verify\n",
        "- **Sum of eigenvalues = trace(A)**; **product = det(A)** (over algebraic closure).\n",
        "- Eigenvalues of a **triangular** matrix are its diagonal entries.\n",
        "- If A is invertible, **eigenvalues(A^{-1}) = 1 / eigenvalues(A)**.\n",
        "- For k ∈ N, **eigenvalues(A^k) = (eigenvalues(A))^k**."
      ]
    },
    {
      "cell_type": "code",
      "metadata": {
        "id": "17f30be6d678"
      },
      "execution_count": null,
      "outputs": [],
      "source": [
        "def verify_trace_det(A):\n",
        "    A = to_sym(A)\n",
        "    lam = sp.symbols('λ')\n",
        "    cp = A.charpoly(lam)\n",
        "    eigs = [sp.N(ev) for ev in A.eigenvals().keys()]  # unique eigenvalues (SymPy may repeat via dict)\n",
        "    # For sums/products, use algebraic multiplicities\n",
        "    eigs_mult = []\n",
        "    for ev, mult in A.eigenvals().items():\n",
        "        eigs_mult += [ev]*mult\n",
        "    s = sp.simplify(sum(eigs_mult))\n",
        "    p = sp.simplify(sp.prod(eigs_mult) if eigs_mult else 1)\n",
        "    return {\n",
        "        \"trace(A)\": sp.simplify(A.trace()),\n",
        "        \"sum_eigs\": sp.simplify(s),\n",
        "        \"det(A)\": sp.simplify(A.det()),\n",
        "        \"prod_eigs\": sp.simplify(p),\n",
        "        \"charpoly\": cp.as_expr()\n",
        "    }\n",
        "\n",
        "def is_triangular(A):\n",
        "    A = to_sym(A)\n",
        "    upper = A.equals(sp.Matrix(np.triu(np.array(A.tolist(), dtype=float))))\n",
        "    lower = A.equals(sp.Matrix(np.tril(np.array(A.tolist(), dtype=float))))\n",
        "    return {\"upper\": upper, \"lower\": lower}\n",
        "\n",
        "def eigs_of_power_and_inverse(A, k=2):\n",
        "    A = to_sym(A)\n",
        "    if A.det() == 0:\n",
        "        inv = None\n",
        "    else:\n",
        "        inv = A.inv()\n",
        "    Ak = A**k\n",
        "    return {\n",
        "        \"eigs(A)\": list(A.eigenvals().keys()),\n",
        "        f\"eigs(A^{k})\": list(Ak.eigenvals().keys()),\n",
        "        \"eigs(A^{-1})\": list(inv.eigenvals().keys()) if inv is not None else None\n",
        "    }"
      ]
    },
    {
      "cell_type": "markdown",
      "metadata": {
        "id": "f51244fc473f"
      },
      "source": [
        "## 3) Algebraic vs. geometric multiplicity; diagonalizability\n",
        "A matrix is **diagonalizable** iff the direct sum of eigenspaces has total dimension `n` (i.e., the sum of **geometric multiplicities** equals `n`)."
      ]
    },
    {
      "cell_type": "code",
      "metadata": {
        "id": "bc02f7e3e459"
      },
      "execution_count": null,
      "outputs": [],
      "source": [
        "def algebraic_geometric_multiplicities(A):\n",
        "    A = to_sym(A)\n",
        "    n = A.shape[0]\n",
        "    evals = A.eigenvals()  # dict {eigenvalue: algebraic multiplicity}\n",
        "    out = []\n",
        "    for lam, am in evals.items():\n",
        "        geom_mult = (A - lam*sp.eye(n)).nullspace()\n",
        "        out.append({\n",
        "            \"eigenvalue\": lam,\n",
        "            \"alg_mult\": int(am),\n",
        "            \"geom_mult\": len(geom_mult)\n",
        "        })\n",
        "    diag = sum(item[\"geom_mult\"] for item in out) == n\n",
        "    return {\"multiplicities\": out, \"diagonalizable\": diag}\n",
        "\n",
        "def diagonalize_if_possible(A):\n",
        "    \"\"\"Return (P, D) with A = P*D*P^{-1}, if diagonalizable; else (None, None).\"\"\"\n",
        "    A = to_sym(A)\n",
        "    res = algebraic_geometric_multiplicities(A)\n",
        "    if not res[\"diagonalizable\"]:\n",
        "        return None, None\n",
        "    # Build eigenbasis columns\n",
        "    n = A.shape[0]\n",
        "    cols = []\n",
        "    vals = []\n",
        "    for lam, am in A.eigenvals().items():\n",
        "        basis = (A - lam*sp.eye(n)).nullspace()\n",
        "        for v in basis:\n",
        "            cols.append(v)\n",
        "            vals.append(lam)\n",
        "    P = sp.Matrix.hstack(*cols)\n",
        "    D = sp.diag(*vals)\n",
        "    if P.det() == 0:\n",
        "        return None, None\n",
        "    return P, D"
      ]
    },
    {
      "cell_type": "markdown",
      "metadata": {
        "id": "3e30da872261"
      },
      "source": [
        "## 4) Leverrier–Faddeev method (characteristic polynomial)\n",
        "Construct the characteristic polynomial \\( p(λ) = λ^n + c_1 λ^{n-1} + \\cdots + c_{n-1} λ + c_n \\)\n",
        "using the recursion\n",
        "\\( B_0 = I,\\; c_k = -\\frac{1}{k}\\,\\mathrm{tr}(A B_{k-1}),\\; B_k = A B_{k-1} + c_k I. \\)"
      ]
    },
    {
      "cell_type": "code",
      "metadata": {
        "id": "fb221f98e991"
      },
      "execution_count": null,
      "outputs": [],
      "source": [
        "def leverrier_faddeev(A):\n",
        "    A = to_sym(A)\n",
        "    n = A.shape[0]\n",
        "    I = sp.eye(n)\n",
        "    B = I\n",
        "    cs = []\n",
        "    for k in range(1, n+1):\n",
        "        ck = -sp.Trace(A*B) / k\n",
        "        cs.append(sp.simplify(ck))\n",
        "        B = A*B + ck*I\n",
        "    # Polynomial: λ^n + c1 λ^{n-1} + ... + c_n\n",
        "    lam = sp.symbols('λ')\n",
        "    p = lam**n\n",
        "    for i, ck in enumerate(cs, start=1):\n",
        "        p += ck * lam**(n - i)\n",
        "    return sp.expand(p), cs  # polynomial expression, coefficients"
      ]
    },
    {
      "cell_type": "markdown",
      "metadata": {
        "id": "eb1c4e6c73a8"
      },
      "source": [
        "## 5) Strict diagonal dominance (SDD) and Gershgorin discs\n",
        "- A matrix is **strictly diagonally dominant** if \\(|a_{ii}| > \\sum_{j\\ne i}|a_{ij}|\\) for all i.\n",
        "- SDD matrices are **nonsingular** (Levy–Desplanques). A Gershgorin view: zero cannot lie in any disc.\n",
        "We include utility checks and an optional plot for Gershgorin discs."
      ]
    },
    {
      "cell_type": "code",
      "metadata": {
        "id": "46c5bc398e48"
      },
      "execution_count": null,
      "outputs": [],
      "source": [
        "def is_strictly_diagonally_dominant(A):\n",
        "    A = np.array(A, dtype=float)\n",
        "    n = A.shape[0]\n",
        "    for i in range(n):\n",
        "        diag = abs(A[i,i])\n",
        "        off = np.sum(np.abs(A[i,:])) - diag\n",
        "        if not (diag > off):\n",
        "            return False\n",
        "    return True\n",
        "\n",
        "def gershgorin_disks(A):\n",
        "    A = np.array(A, dtype=float)\n",
        "    n = A.shape[0]\n",
        "    centers = A.diagonal()\n",
        "    radii = [np.sum(np.abs(A[i,:])) - abs(A[i,i]) for i in range(n)]\n",
        "    return centers, radii\n",
        "\n",
        "def plot_gershgorin(A, title=\"Gershgorin Discs\"):\n",
        "    centers, radii = gershgorin_disks(A)\n",
        "    fig, ax = plt.subplots(figsize=(6,6))\n",
        "    # Plot each disc as a circle in the complex plane (real axis only for centers here)\n",
        "    for c, r in zip(centers, radii):\n",
        "        circle = Circle((c, 0.0), r, fill=False)\n",
        "        ax.add_patch(circle)\n",
        "        ax.plot([c], [0.0], marker='o')\n",
        "    ax.axhline(0.0)\n",
        "    ax.set_aspect('equal', adjustable='box')\n",
        "    ax.set_title(title)\n",
        "    plt.show()"
      ]
    },
    {
      "cell_type": "markdown",
      "metadata": {
        "id": "79026bd990b7"
      },
      "source": [
        "---\n",
        "\n",
        "## 6) Quick demos\n",
        "\n",
        "Run these cells to see the functions in action."
      ]
    },
    {
      "cell_type": "code",
      "metadata": {
        "id": "3bf8576d73f3"
      },
      "execution_count": null,
      "outputs": [],
      "source": [
        "# Demo 1: Basic eigen computations\n",
        "A = sp.Matrix([[2, 1, 0],\n",
        "               [0, 2, 0],\n",
        "               [0, 0, 3]])\n",
        "print(\"A =\"); sp.pprint(A)\n",
        "\n",
        "print(\"\\nCharacteristic polynomial (SymPy):\")\n",
        "lam = sp.symbols('λ')\n",
        "cp = charpoly_sym(A)\n",
        "sp.pprint(cp)\n",
        "\n",
        "print(\"\\nEigenvalues / eigenvectors (SymPy):\")\n",
        "for ev, mult, basis in eig_sympy(A):\n",
        "    print(\"λ =\", ev, \"| alg mult =\", mult, \"| eigenbasis vectors:\", basis)\n",
        "\n",
        "print(\"\\nVerify trace/det identities:\")\n",
        "sp.pprint(verify_trace_det(A))\n",
        "\n",
        "print(\"\\nPowers/inverse eigenvalues:\")\n",
        "sp.pprint(eigs_of_power_and_inverse(A, k=3))"
      ]
    },
    {
      "cell_type": "code",
      "metadata": {
        "id": "68b18edf9014"
      },
      "execution_count": null,
      "outputs": [],
      "source": [
        "# Demo 2: Multiplicities & diagonalization check\n",
        "B = sp.Matrix([[4, 1, 0],\n",
        "               [0, 4, 0],\n",
        "               [0, 0, 1]])\n",
        "sp.pprint(algebraic_geometric_multiplicities(B))\n",
        "P, D = diagonalize_if_possible(B)\n",
        "print(\"\\nDiagonalizable? ->\", P is not None)\n",
        "if P is not None:\n",
        "    print(\"P =\"); sp.pprint(P)\n",
        "    print(\"D =\"); sp.pprint(D)\n",
        "    print(\"Check P^{-1} A P == D:\", sp.simplify(P.inv()*B*P - D) == sp.zeros(*B.shape))"
      ]
    },
    {
      "cell_type": "code",
      "metadata": {
        "id": "1eec9f18ad0e"
      },
      "execution_count": null,
      "outputs": [],
      "source": [
        "# Demo 3: Leverrier–Faddeev vs SymPy charpoly\n",
        "np.random.seed(0)\n",
        "C = sp.Matrix(np.random.randint(-3, 4, size=(3,3)))\n",
        "print(\"C =\"); sp.pprint(C)\n",
        "p_LF, cs = leverrier_faddeev(C)\n",
        "print(\"\\nLeverrier–Faddeev polynomial p(λ):\"); sp.pprint(p_LF)\n",
        "print(\"coeffs (c1..c_n):\", cs)\n",
        "print(\"\\nSymPy charpoly:\"); sp.pprint(charpoly_sym(C).as_expr())"
      ]
    },
    {
      "cell_type": "code",
      "metadata": {
        "id": "9681198535db"
      },
      "execution_count": null,
      "outputs": [],
      "source": [
        "# Demo 4: Strict diagonal dominance & Gershgorin\n",
        "D = np.array([[5, -1,  0],\n",
        "              [2,  6,  1],\n",
        "              [0,  1,  4]], dtype=float)\n",
        "print(\"D is strictly diagonally dominant? ->\", is_strictly_diagonally_dominant(D))\n",
        "\n",
        "# Plot Gershgorin discs (no explicit colors set)\n",
        "plot_gershgorin(D, title=\"Gershgorin Discs for D\")"
      ]
    },
    {
      "cell_type": "code",
      "metadata": {
        "id": "52779e5fd58a"
      },
      "execution_count": null,
      "outputs": [],
      "source": [
        "# Demo 5: 2x2 rotation (complex eigenvalues) and a real symmetric example\n",
        "theta = math.pi/4  # 45 degrees\n",
        "R = np.array([[math.cos(theta), -math.sin(theta)],\n",
        "              [math.sin(theta),  math.cos(theta)]], dtype=float)\n",
        "\n",
        "vals_R, vecs_R = eig_numpy(R)\n",
        "print(\"Rotation matrix R eigenvalues (complex on unit circle):\", vals_R)\n",
        "\n",
        "S = np.array([[2, 1],\n",
        "              [1, 3]], dtype=float)\n",
        "vals_S, vecs_S = eig_numpy(S)\n",
        "print(\"Symmetric S eigenvalues (real) ->\", vals_S)\n",
        "print(\"Check orthogonality of eigenvectors numerically:\", np.allclose(vecs_S.T @ vecs_S, np.eye(2)))"
      ]
    }
  ]
}