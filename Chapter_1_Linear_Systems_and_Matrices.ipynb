{
  "nbformat": 4,
  "nbformat_minor": 5,
  "metadata": {
    "colab": {
      "name": "Chapter_1_Linear_Systems_and_Matrices.ipynb",
      "provenance": []
    },
    "kernelspec": {
      "name": "python3",
      "display_name": "Python 3"
    },
    "language_info": {
      "name": "python"
    }
  },
  "cells": [
    {
      "cell_type": "markdown",
      "metadata": {
        "id": "a9e4ab12842f"
      },
      "source": [
        "# Chapter 1 — Linear Systems and Matrices (Colab Companion)\n",
        "\n",
        "This Colab notebook provides Python utilities and worked demos for core concepts from Chapter 1:\n",
        "\n",
        "- Translating linear systems to **augmented matrices**  \n",
        "- **Elementary row operations**, **row-echelon (REF)** and **reduced row-echelon (RREF)**\n",
        "- **Gaussian / Gauss–Jordan elimination** with optional **partial pivoting**\n",
        "- Reading off **pivot** vs **free** variables; **consistency** test (pivot in last column)\n",
        "- **Vandermonde interpolation** example\n",
        "\n",
        "> Tip: All code uses **exact arithmetic** (rationals) via SymPy by default, which keeps steps clean and reproducible."
      ]
    },
    {
      "cell_type": "code",
      "metadata": {
        "id": "fcb553f84dbe"
      },
      "execution_count": null,
      "outputs": [],
      "source": [
        "# Setup (SymPy + NumPy). In Colab these are usually available already.\n",
        "# If needed, uncomment the next line to install/upgrade.\n",
        "# !pip -q install sympy numpy\n",
        "\n",
        "import sympy as sp\n",
        "import numpy as np\n",
        "\n",
        "sp.init_printing(use_unicode=True)  # Pretty printing of matrices and rationals"
      ]
    },
    {
      "cell_type": "markdown",
      "metadata": {
        "id": "086d7574364b"
      },
      "source": [
        "## 1) Ref/Rref helpers (exact arithmetic)\n",
        "\n",
        "Utilities to compute REF and RREF with SymPy."
      ]
    },
    {
      "cell_type": "code",
      "metadata": {
        "id": "db7d3c0d4097"
      },
      "execution_count": null,
      "outputs": [],
      "source": [
        "# --- REF / RREF helpers ---\n",
        "\n",
        "def to_matrix(A):\n",
        "    \"\"\"\n",
        "    Ensure input is a SymPy Matrix with Rational entries when possible.\n",
        "    Accepts: Python lists, NumPy arrays, or SymPy Matrix.\n",
        "    \"\"\"\n",
        "    if isinstance(A, sp.MatrixBase):\n",
        "        M = A.copy()\n",
        "    else:\n",
        "        M = sp.Matrix(A)\n",
        "    # Try to coerce to rationals for exact arithmetic\n",
        "    def _coerce(x):\n",
        "        if isinstance(x, (int, np.integer)):\n",
        "            return sp.Rational(int(x))\n",
        "        try:\n",
        "            return sp.nsimplify(x)\n",
        "        except Exception:\n",
        "            return x\n",
        "    return M.applyfunc(_coerce)\n",
        "\n",
        "def compute_ref_rref(A):\n",
        "    \"\"\"\n",
        "    Return (REF, RREF, pivot_cols) for the given matrix A.\n",
        "    Uses exact arithmetic where possible.\n",
        "    \"\"\"\n",
        "    M = to_matrix(A)\n",
        "    REF = M.echelon_form()  # Not fully reduced\n",
        "    RREF, pivots = M.rref() # Fully reduced\n",
        "    return REF, RREF, pivots\n",
        "\n",
        "# Demo\n",
        "if __name__ == \"__main__\":\n",
        "    A = [[1, 2, -1, -4],\n",
        "         [2, 3, -1, -11],\n",
        "         [-2, 0, -3, 22]]\n",
        "    REF, RREF, piv = compute_ref_rref(A)\n",
        "    print(\"Input A:\"); sp.pprint(to_matrix(A))\n",
        "    print(\"\\nRow Echelon Form (REF):\"); sp.pprint(REF)\n",
        "    print(\"\\nReduced Row Echelon Form (RREF):\"); sp.pprint(RREF)\n",
        "    print(\"Pivot columns (0-indexed):\", piv)"
      ]
    },
    {
      "cell_type": "markdown",
      "metadata": {
        "id": "2817a107d542"
      },
      "source": [
        "## 2) System → Augmented matrix (with pretty display)\n",
        "\n",
        "Turn symbolic equations into the augmented matrix `[A | b]`."
      ]
    },
    {
      "cell_type": "code",
      "metadata": {
        "id": "c021284c5dc7"
      },
      "execution_count": null,
      "outputs": [],
      "source": [
        "# --- System to augmented matrix ---\n",
        "\n",
        "def system_to_augmented(equations, variables):\n",
        "    \"\"\"\n",
        "    Parameters\n",
        "    ----------\n",
        "    equations : list of sympy.Eq or strings like \"2*x + y - z = 1\"\n",
        "    variables : list/tuple of sympy symbols in the desired order, e.g. (x, y, z)\n",
        "\n",
        "    Returns\n",
        "    -------\n",
        "    A : SymPy Matrix (coefficients)\n",
        "    b : SymPy Matrix (rhs column vector)\n",
        "    Ab: SymPy Matrix (augmented [A | b])\n",
        "    \"\"\"\n",
        "    # Parse equations if given as strings\n",
        "    eqs = []\n",
        "    for e in equations:\n",
        "        if isinstance(e, str):\n",
        "            left, right = e.split(\"=\")\n",
        "            eqs.append(sp.Eq(sp.sympify(left), sp.sympify(right)))\n",
        "        else:\n",
        "            eqs.append(sp.Eq(sp.sympify(e.lhs), sp.sympify(e.rhs)))\n",
        "    A, b = sp.linear_eq_to_matrix(eqs, variables)\n",
        "    A = to_matrix(A)\n",
        "    b = to_matrix(b)\n",
        "    Ab = A.row_join(b)\n",
        "    return A, b, Ab\n",
        "\n",
        "# Demo\n",
        "if __name__ == \"__main__\":\n",
        "    x1, x2, x3 = sp.symbols('x1 x2 x3')\n",
        "    eqs = [\"x1 + 3*x2 - 2*x3 = -5\",\n",
        "           \"4*x1 + 9*x2 + 1*x3 = -2\",\n",
        "           \"-6*x2 + 2*x3 = 24\"]\n",
        "    A, b, Ab = system_to_augmented(eqs, (x1, x2, x3))\n",
        "    print(\"A =\"); sp.pprint(A)\n",
        "    print(\"b =\"); sp.pprint(b)\n",
        "    print(\"[A | b] =\"); sp.pprint(Ab)"
      ]
    },
    {
      "cell_type": "markdown",
      "metadata": {
        "id": "62d11fef8e41"
      },
      "source": [
        "## 3) Gauss–Jordan with step-by-step row operations\n",
        "\n",
        "Produce RREF *and* a readable log of each elementary row operation.\n",
        "Optional **partial pivoting** (default: `True`) improves numerical stability if you switch to floats."
      ]
    },
    {
      "cell_type": "code",
      "metadata": {
        "id": "b4367667ba99"
      },
      "execution_count": null,
      "outputs": [],
      "source": [
        "# --- Gauss–Jordan with steps ---\n",
        "\n",
        "def rref_with_steps(A, partial_pivoting=True):\n",
        "    \"\"\"\n",
        "    Compute RREF while recording each elementary row operation.\n",
        "\n",
        "    Parameters\n",
        "    ----------\n",
        "    A : array-like\n",
        "        Matrix or augmented matrix.\n",
        "    partial_pivoting : bool\n",
        "        If True, swap in the row with max |entry| in the pivot column.\n",
        "\n",
        "    Returns\n",
        "    -------\n",
        "    R : SymPy Matrix\n",
        "        The reduced row-echelon form.\n",
        "    steps : list of dict\n",
        "        Each dict has 'op' (str) and 'matrix' (SymPy Matrix snapshot).\n",
        "    \"\"\"\n",
        "    M = to_matrix(A)\n",
        "    M = M.applyfunc(sp.nsimplify)  # normalize\n",
        "    m, n = M.shape\n",
        "    i = 0  # current pivot row\n",
        "    j = 0  # current pivot col\n",
        "    steps = []\n",
        "\n",
        "    def log(op):\n",
        "        steps.append({\"op\": op, \"matrix\": M.copy()})\n",
        "\n",
        "    while i < m and j < n:\n",
        "        # 1) Choose pivot row\n",
        "        pivot_row = None\n",
        "        if partial_pivoting:\n",
        "            # pick row with max absolute value in column j (from i..m-1)\n",
        "            col_vals = [(r, abs(M[r, j])) for r in range(i, m)]\n",
        "            r_best, val_best = max(col_vals, key=lambda t: t[1])\n",
        "            if val_best != 0:\n",
        "                pivot_row = r_best\n",
        "        else:\n",
        "            for r in range(i, m):\n",
        "                if M[r, j] != 0:\n",
        "                    pivot_row = r\n",
        "                    break\n",
        "\n",
        "        if pivot_row is None:  # no pivot in this column\n",
        "            j += 1\n",
        "            continue\n",
        "\n",
        "        # 2) Swap to the top (row i)\n",
        "        if pivot_row != i:\n",
        "            M.row_swap(i, pivot_row)\n",
        "            log(f\"Swap R{i+1} ↔ R{pivot_row+1}\")\n",
        "\n",
        "        # 3) Scale pivot row to make pivot = 1\n",
        "        pivot = M[i, j]\n",
        "        if pivot != 1:\n",
        "            M.row_op(i, lambda val, _: val / pivot)\n",
        "            log(f\"R{i+1} := (1/{pivot}) · R{i+1}\")\n",
        "\n",
        "        # 4) Eliminate all other entries in column j\n",
        "        for r in range(m):\n",
        "            if r != i and M[r, j] != 0:\n",
        "                factor = M[r, j]\n",
        "                M.row_op(r, lambda val, k: val - factor * M[i, k])\n",
        "                log(f\"R{r+1} := R{r+1} - ({factor}) · R{i+1}\")\n",
        "\n",
        "        i += 1\n",
        "        j += 1\n",
        "\n",
        "    # Final snapshot\n",
        "    log(\"RREF reached\")\n",
        "    return M, steps\n",
        "\n",
        "def print_steps(steps):\n",
        "    \"\"\"Pretty-print a steps log produced by rref_with_steps.\"\"\"\n",
        "    for idx, s in enumerate(steps, 1):\n",
        "        print(f\"Step {idx}: {s['op']}\")\n",
        "        sp.pprint(s[\"matrix\"])\n",
        "        print(\"-\" * 40)\n",
        "\n",
        "# Demo on an example matrix\n",
        "if __name__ == \"__main__\":\n",
        "    A = [[0, 2, 12, 11, -20],\n",
        "         [2, 8, 16, 0, 12],\n",
        "         [1, 3, 2, 3, -1]]\n",
        "    R, steps = rref_with_steps(A, partial_pivoting=True)\n",
        "    print_steps(steps)"
      ]
    },
    {
      "cell_type": "markdown",
      "metadata": {
        "id": "cdb31a7cdc53"
      },
      "source": [
        "## 4) Consistency & solution structure from an augmented matrix\n",
        "\n",
        "Given an augmented matrix `[A | b]`, check **consistency** (pivot in last column) and list **pivot** vs **free** variables."
      ]
    },
    {
      "cell_type": "code",
      "metadata": {
        "id": "863b28778488"
      },
      "execution_count": null,
      "outputs": [],
      "source": [
        "# --- Augmented-matrix analysis ---\n",
        "\n",
        "def analyze_augmented(Ab, num_vars=None):\n",
        "    \"\"\"\n",
        "    Inspect an augmented matrix [A | b] in RREF to report:\n",
        "    - consistency (pivot in last column?)\n",
        "    - pivot columns and free columns (for A-part)\n",
        "    - rank\n",
        "    \"\"\"\n",
        "    M = to_matrix(Ab)\n",
        "    R, piv = M.rref()\n",
        "    m, n = R.shape\n",
        "    if num_vars is None:\n",
        "        num_vars = n - 1  # assume one RHS\n",
        "    last_col = n - 1\n",
        "    consistent = True\n",
        "    # row that is [0 ... 0 | nonzero] indicates inconsistency\n",
        "    for r in range(m):\n",
        "        if all(R[r, c] == 0 for c in range(num_vars)) and R[r, last_col] != 0:\n",
        "            consistent = False\n",
        "            break\n",
        "    pivot_cols = [p for p in piv if p < num_vars]\n",
        "    free_cols  = [c for c in range(num_vars) if c not in pivot_cols]\n",
        "    return {\"consistent\": consistent,\n",
        "            \"rank\": len(pivot_cols),\n",
        "            \"pivot_cols\": pivot_cols,\n",
        "            \"free_cols\": free_cols}, R\n",
        "\n",
        "# Demo\n",
        "if __name__ == \"__main__\":\n",
        "    Ab = [[1, 3, -2, 0, 5],\n",
        "          [0, 1,  4, -1, 2],\n",
        "          [0, 0,  0,  1, -3]]\n",
        "    report, R = analyze_augmented(Ab)\n",
        "    print(\"RREF:\"); sp.pprint(R)\n",
        "    print(\"Report:\", report)"
      ]
    },
    {
      "cell_type": "markdown",
      "metadata": {
        "id": "d64ac3c7af1d"
      },
      "source": [
        "## 5) Vandermonde interpolation\n",
        "\n",
        "Build the Vandermonde matrix \\(V\\) from points \\((x_i, y_i)\\) and solve for the coefficients of the degree \\(n-1\\) polynomial."
      ]
    },
    {
      "cell_type": "code",
      "metadata": {
        "id": "2505879564b9"
      },
      "execution_count": null,
      "outputs": [],
      "source": [
        "# --- Vandermonde interpolation ---\n",
        "\n",
        "def vandermonde_fit(xs, ys):\n",
        "    \"\"\"\n",
        "    Given points (xs, ys) with distinct xs, fit p(x)=a_{n-1}x^{n-1}+...+a1 x + a0.\n",
        "    Returns (coeff_vector, polynomial).\n",
        "    \"\"\"\n",
        "    xs = list(xs); ys = list(ys)\n",
        "    n = len(xs)\n",
        "    V = sp.Matrix([[sp.Integer(x)**k for k in range(n-1, -1, -1)] for x in xs])\n",
        "    y = sp.Matrix(ys)\n",
        "    # Solve V * a = y using exact arithmetic when possible\n",
        "    a = V.LUsolve(y)  # works over rationals as well\n",
        "    x = sp.symbols('x')\n",
        "    # Build polynomial with ascending powers for readability\n",
        "    poly = sum(a[n-1-k]*x**k for k in range(n))\n",
        "    return a, sp.expand(poly)\n",
        "\n",
        "# Demo\n",
        "if __name__ == \"__main__\":\n",
        "    xs = [0, 1, 2]\n",
        "    ys = [1, 2, 5]\n",
        "    a, p = vandermonde_fit(xs, ys)\n",
        "    print(\"Coefficients (a_{2}, a_{1}, a_{0}) =\"); sp.pprint(a.T)\n",
        "    print(\"p(x) =\"); sp.pprint(p)"
      ]
    },
    {
      "cell_type": "markdown",
      "metadata": {
        "id": "2c35abb3f3bb"
      },
      "source": [
        "## 6) Quick utilities\n",
        "\n",
        "Shortcuts to solve small systems and to convert solutions into a parametric form when there are free variables."
      ]
    },
    {
      "cell_type": "code",
      "metadata": {
        "id": "48af84f80f3a"
      },
      "execution_count": null,
      "outputs": [],
      "source": [
        "# --- Solve small systems and parametrize ---\n",
        "\n",
        "def solve_augmented(Ab, var_symbols):\n",
        "    \"\"\"\n",
        "    Solve [A | b] as a linear system for given var_symbols using SymPy.\n",
        "    Returns a dict or parametric solution (SymPy form).\n",
        "    \"\"\"\n",
        "    Ab = to_matrix(Ab)\n",
        "    nvars = len(var_symbols)\n",
        "    A = Ab[:, :nvars]\n",
        "    b = Ab[:, nvars:]\n",
        "    solset = sp.linsolve((A, b))\n",
        "    return list(solset)[0]  # tuple (possibly parametric)\n",
        "\n",
        "# Demo\n",
        "if __name__ == \"__main__\":\n",
        "    x1, x2, x3 = sp.symbols('x1 x2 x3')\n",
        "    Ab = [[1, 0, -2, 3],\n",
        "          [0, 1,  1, -1],\n",
        "          [0, 0,  0,  0]]\n",
        "    sol = solve_augmented(Ab, (x1, x2, x3))\n",
        "    print(\"Solution (possibly parametric):\", sol)"
      ]
    },
    {
      "cell_type": "markdown",
      "metadata": {
        "id": "c666fc862b0e"
      },
      "source": [
        "---\n",
        "\n",
        "### How to use this notebook\n",
        "\n",
        "1. Run the **Setup** cell.  \n",
        "2. Use **`compute_ref_rref`** to get REF/RREF and pivots.  \n",
        "3. Use **`system_to_augmented`** to translate symbolic equations to `[A | b]`.  \n",
        "4. Use **`rref_with_steps`** + **`print_steps`** to see each row operation.  \n",
        "5. Use **`analyze_augmented`** to check consistency and identify free variables.  \n",
        "6. Try **`vandermonde_fit`** for polynomial interpolation tasks."
      ]
    }
  ]
}